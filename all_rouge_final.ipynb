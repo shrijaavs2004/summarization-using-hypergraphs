{
  "nbformat": 4,
  "nbformat_minor": 0,
  "metadata": {
    "colab": {
      "name": "all rouge final.ipynb",
      "provenance": []
    },
    "kernelspec": {
      "name": "python3",
      "display_name": "Python 3"
    },
    "language_info": {
      "name": "python"
    }
  },
  "cells": [
    {
      "cell_type": "markdown",
      "metadata": {
        "id": "j5OCAC33m3e6"
      },
      "source": [
        "Finding rouge scores for all the datasets with updated domination code"
      ]
    },
    {
      "cell_type": "markdown",
      "metadata": {
        "id": "OcAN7Q2roBYx"
      },
      "source": [
        "# Libraries and Installation"
      ]
    },
    {
      "cell_type": "code",
      "metadata": {
        "colab": {
          "base_uri": "https://localhost:8080/"
        },
        "id": "MyZniyR-oHBG",
        "outputId": "57f5de52-e83b-49ee-d70c-902af1dfd3ab"
      },
      "source": [
        "import pandas as pd\n",
        "import pickle\n",
        "!pip install igraph\n",
        "!pip install celluloid\n",
        "import matplotlib.pyplot as plt\n",
        "import networkx as nx\n",
        "!pip install hypernetx\n",
        "import hypernetx as hnx\n",
        "import numpy as np\n",
        "!pip install contractions\n",
        "import nltk\n",
        "nltk.download('punkt')\n",
        "from nltk.corpus import stopwords\n",
        "nltk.download('stopwords')\n",
        "from nltk.tokenize import word_tokenize\n",
        "!pip install yake\n",
        "!pip install rouge"
      ],
      "execution_count": null,
      "outputs": [
        {
          "output_type": "stream",
          "name": "stdout",
          "text": [
            "Collecting igraph\n",
            "  Downloading igraph-0.9.8-cp37-cp37m-manylinux_2_12_x86_64.manylinux2010_x86_64.whl (3.2 MB)\n",
            "\u001b[K     |████████████████████████████████| 3.2 MB 4.3 MB/s \n",
            "\u001b[?25hCollecting texttable>=1.6.2\n",
            "  Downloading texttable-1.6.4-py2.py3-none-any.whl (10 kB)\n",
            "Installing collected packages: texttable, igraph\n",
            "Successfully installed igraph-0.9.8 texttable-1.6.4\n",
            "Collecting celluloid\n",
            "  Downloading celluloid-0.2.0-py3-none-any.whl (5.4 kB)\n",
            "Requirement already satisfied: matplotlib in /usr/local/lib/python3.7/dist-packages (from celluloid) (3.2.2)\n",
            "Requirement already satisfied: pyparsing!=2.0.4,!=2.1.2,!=2.1.6,>=2.0.1 in /usr/local/lib/python3.7/dist-packages (from matplotlib->celluloid) (3.0.6)\n",
            "Requirement already satisfied: cycler>=0.10 in /usr/local/lib/python3.7/dist-packages (from matplotlib->celluloid) (0.11.0)\n",
            "Requirement already satisfied: python-dateutil>=2.1 in /usr/local/lib/python3.7/dist-packages (from matplotlib->celluloid) (2.8.2)\n",
            "Requirement already satisfied: numpy>=1.11 in /usr/local/lib/python3.7/dist-packages (from matplotlib->celluloid) (1.19.5)\n",
            "Requirement already satisfied: kiwisolver>=1.0.1 in /usr/local/lib/python3.7/dist-packages (from matplotlib->celluloid) (1.3.2)\n",
            "Requirement already satisfied: six>=1.5 in /usr/local/lib/python3.7/dist-packages (from python-dateutil>=2.1->matplotlib->celluloid) (1.15.0)\n",
            "Installing collected packages: celluloid\n",
            "Successfully installed celluloid-0.2.0\n",
            "Collecting hypernetx\n",
            "  Downloading hypernetx-1.2-py3-none-any.whl (89 kB)\n",
            "\u001b[K     |████████████████████████████████| 89 kB 3.5 MB/s \n",
            "\u001b[?25hRequirement already satisfied: scipy<2.0,>=1.1.0 in /usr/local/lib/python3.7/dist-packages (from hypernetx) (1.4.1)\n",
            "Requirement already satisfied: networkx<3.0,>=2.2 in /usr/local/lib/python3.7/dist-packages (from hypernetx) (2.6.3)\n",
            "Requirement already satisfied: matplotlib>3.0 in /usr/local/lib/python3.7/dist-packages (from hypernetx) (3.2.2)\n",
            "Requirement already satisfied: pandas>=0.23 in /usr/local/lib/python3.7/dist-packages (from hypernetx) (1.1.5)\n",
            "Requirement already satisfied: numpy<2.0,>=1.15.0 in /usr/local/lib/python3.7/dist-packages (from hypernetx) (1.19.5)\n",
            "Requirement already satisfied: scikit-learn>=0.20.0 in /usr/local/lib/python3.7/dist-packages (from hypernetx) (1.0.1)\n",
            "Requirement already satisfied: cycler>=0.10 in /usr/local/lib/python3.7/dist-packages (from matplotlib>3.0->hypernetx) (0.11.0)\n",
            "Requirement already satisfied: kiwisolver>=1.0.1 in /usr/local/lib/python3.7/dist-packages (from matplotlib>3.0->hypernetx) (1.3.2)\n",
            "Requirement already satisfied: python-dateutil>=2.1 in /usr/local/lib/python3.7/dist-packages (from matplotlib>3.0->hypernetx) (2.8.2)\n",
            "Requirement already satisfied: pyparsing!=2.0.4,!=2.1.2,!=2.1.6,>=2.0.1 in /usr/local/lib/python3.7/dist-packages (from matplotlib>3.0->hypernetx) (3.0.6)\n",
            "Requirement already satisfied: pytz>=2017.2 in /usr/local/lib/python3.7/dist-packages (from pandas>=0.23->hypernetx) (2018.9)\n",
            "Requirement already satisfied: six>=1.5 in /usr/local/lib/python3.7/dist-packages (from python-dateutil>=2.1->matplotlib>3.0->hypernetx) (1.15.0)\n",
            "Requirement already satisfied: joblib>=0.11 in /usr/local/lib/python3.7/dist-packages (from scikit-learn>=0.20.0->hypernetx) (1.1.0)\n",
            "Requirement already satisfied: threadpoolctl>=2.0.0 in /usr/local/lib/python3.7/dist-packages (from scikit-learn>=0.20.0->hypernetx) (3.0.0)\n",
            "Installing collected packages: hypernetx\n",
            "Successfully installed hypernetx-1.2\n",
            "Collecting contractions\n",
            "  Downloading contractions-0.0.58-py2.py3-none-any.whl (8.0 kB)\n",
            "Collecting textsearch>=0.0.21\n",
            "  Downloading textsearch-0.0.21-py2.py3-none-any.whl (7.5 kB)\n",
            "Collecting anyascii\n",
            "  Downloading anyascii-0.3.0-py3-none-any.whl (284 kB)\n",
            "\u001b[K     |████████████████████████████████| 284 kB 4.1 MB/s \n",
            "\u001b[?25hCollecting pyahocorasick\n",
            "  Downloading pyahocorasick-1.4.2.tar.gz (321 kB)\n",
            "\u001b[K     |████████████████████████████████| 321 kB 57.6 MB/s \n",
            "\u001b[?25hBuilding wheels for collected packages: pyahocorasick\n",
            "  Building wheel for pyahocorasick (setup.py) ... \u001b[?25l\u001b[?25hdone\n",
            "  Created wheel for pyahocorasick: filename=pyahocorasick-1.4.2-cp37-cp37m-linux_x86_64.whl size=85451 sha256=208420895587c7611f310acf5e67ea7f78d07eb80209f7a715b6619ed38a45fa\n",
            "  Stored in directory: /root/.cache/pip/wheels/25/19/a6/8f363d9939162782bb8439d886469756271abc01f76fbd790f\n",
            "Successfully built pyahocorasick\n",
            "Installing collected packages: pyahocorasick, anyascii, textsearch, contractions\n",
            "Successfully installed anyascii-0.3.0 contractions-0.0.58 pyahocorasick-1.4.2 textsearch-0.0.21\n",
            "[nltk_data] Downloading package punkt to /root/nltk_data...\n",
            "[nltk_data]   Unzipping tokenizers/punkt.zip.\n",
            "[nltk_data] Downloading package stopwords to /root/nltk_data...\n",
            "[nltk_data]   Unzipping corpora/stopwords.zip.\n",
            "Collecting yake\n",
            "  Downloading yake-0.4.8-py2.py3-none-any.whl (60 kB)\n",
            "\u001b[K     |████████████████████████████████| 60 kB 2.7 MB/s \n",
            "\u001b[?25hRequirement already satisfied: networkx in /usr/local/lib/python3.7/dist-packages (from yake) (2.6.3)\n",
            "Requirement already satisfied: click>=6.0 in /usr/local/lib/python3.7/dist-packages (from yake) (7.1.2)\n",
            "Collecting segtok\n",
            "  Downloading segtok-1.5.10.tar.gz (25 kB)\n",
            "Collecting jellyfish\n",
            "  Downloading jellyfish-0.8.9.tar.gz (137 kB)\n",
            "\u001b[K     |████████████████████████████████| 137 kB 8.6 MB/s \n",
            "\u001b[?25hRequirement already satisfied: tabulate in /usr/local/lib/python3.7/dist-packages (from yake) (0.8.9)\n",
            "Requirement already satisfied: numpy in /usr/local/lib/python3.7/dist-packages (from yake) (1.19.5)\n",
            "Requirement already satisfied: regex in /usr/local/lib/python3.7/dist-packages (from segtok->yake) (2019.12.20)\n",
            "Building wheels for collected packages: jellyfish, segtok\n",
            "  Building wheel for jellyfish (setup.py) ... \u001b[?25l\u001b[?25hdone\n",
            "  Created wheel for jellyfish: filename=jellyfish-0.8.9-cp37-cp37m-linux_x86_64.whl size=73236 sha256=454d60fb3be25daa5d5c39d438d0f05941b2acdd63e7edb13bdd1723f990b686\n",
            "  Stored in directory: /root/.cache/pip/wheels/32/a9/ef/5d8742e72deaf0d1de327a180d008c2c0299367581800ea73f\n",
            "  Building wheel for segtok (setup.py) ... \u001b[?25l\u001b[?25hdone\n",
            "  Created wheel for segtok: filename=segtok-1.5.10-py3-none-any.whl size=25030 sha256=492371767e3016a7c6999f5400181d9d989d87b3228ca381c87decedb173ae37\n",
            "  Stored in directory: /root/.cache/pip/wheels/67/b7/d0/a121106e61339eee5ed083bc230b1c8dc422c49a5a28c2addd\n",
            "Successfully built jellyfish segtok\n",
            "Installing collected packages: segtok, jellyfish, yake\n",
            "Successfully installed jellyfish-0.8.9 segtok-1.5.10 yake-0.4.8\n",
            "Collecting rouge\n",
            "  Downloading rouge-1.0.1-py3-none-any.whl (13 kB)\n",
            "Requirement already satisfied: six in /usr/local/lib/python3.7/dist-packages (from rouge) (1.15.0)\n",
            "Installing collected packages: rouge\n",
            "Successfully installed rouge-1.0.1\n"
          ]
        }
      ]
    },
    {
      "cell_type": "markdown",
      "metadata": {
        "id": "xDm0wY9cnMWj"
      },
      "source": [
        "# DUC Data"
      ]
    },
    {
      "cell_type": "code",
      "metadata": {
        "colab": {
          "base_uri": "https://localhost:8080/"
        },
        "id": "uQyl6GIJmzo-",
        "outputId": "5fb33e3e-303d-4596-d79a-ba0524ab7d8d"
      },
      "source": [
        "from google.colab import drive\n",
        "drive.mount('/content/gdrive')"
      ],
      "execution_count": null,
      "outputs": [
        {
          "output_type": "stream",
          "name": "stdout",
          "text": [
            "Mounted at /content/gdrive\n"
          ]
        }
      ]
    },
    {
      "cell_type": "code",
      "metadata": {
        "colab": {
          "base_uri": "https://localhost:8080/",
          "height": 747
        },
        "id": "w_Zw5DZnxl4N",
        "outputId": "3b34a960-7033-4876-b470-93bc32657e65"
      },
      "source": [
        "# /content/gdrive/MyDrive/summarisation_dataset/duc_full_with_lsa.pkl\n",
        "\n",
        "duc_df = pd.read_pickle('/content/gdrive/MyDrive/summarisation_dataset/duc_full_with_original_sum.pkl')\n",
        "duc_df.head()"
      ],
      "execution_count": null,
      "outputs": [
        {
          "output_type": "execute_result",
          "data": {
            "text/html": [
              "<div>\n",
              "<style scoped>\n",
              "    .dataframe tbody tr th:only-of-type {\n",
              "        vertical-align: middle;\n",
              "    }\n",
              "\n",
              "    .dataframe tbody tr th {\n",
              "        vertical-align: top;\n",
              "    }\n",
              "\n",
              "    .dataframe thead th {\n",
              "        text-align: right;\n",
              "    }\n",
              "</style>\n",
              "<table border=\"1\" class=\"dataframe\">\n",
              "  <thead>\n",
              "    <tr style=\"text-align: right;\">\n",
              "      <th></th>\n",
              "      <th>story</th>\n",
              "      <th>filename</th>\n",
              "      <th>original_sents</th>\n",
              "      <th>clean_sents</th>\n",
              "      <th>clean_para</th>\n",
              "      <th>entities</th>\n",
              "      <th>keywords</th>\n",
              "      <th>combined_keywords</th>\n",
              "      <th>word_sentence_dictionary</th>\n",
              "      <th>dominating_set</th>\n",
              "      <th>hypo_summary</th>\n",
              "      <th>hypo_summary_para</th>\n",
              "      <th>summary</th>\n",
              "      <th>sumname</th>\n",
              "      <th>ref_summary_para</th>\n",
              "      <th>rouge_values</th>\n",
              "      <th>rouge-1 f scores</th>\n",
              "      <th>rouge-2 f scores</th>\n",
              "      <th>rouge-l f scores</th>\n",
              "    </tr>\n",
              "  </thead>\n",
              "  <tbody>\n",
              "    <tr>\n",
              "      <th>0</th>\n",
              "      <td>``Mad cow disease'' has killed 10,000 cattl...</td>\n",
              "      <td>doc-1.txt</td>\n",
              "      <td>[   ``Mad cow disease   has killed 10,000 catt...</td>\n",
              "      <td>[ Mad cow disease killed 10,000 cattle , restr...</td>\n",
              "      <td>Mad cow disease killed 10,000 cattle , restri...</td>\n",
              "      <td>[British, 1700s, february 9, Israel, Margaret ...</td>\n",
              "      <td>[BSE, disease, Britain, Agriculture, cattle, g...</td>\n",
              "      <td>[British, 1700s, february 9, report, Israel, M...</td>\n",
              "      <td>{'British': ['Ireland Department Agriculture F...</td>\n",
              "      <td>[0, 3, 5, 10, 16, 17, 20, 22, 25]</td>\n",
              "      <td>[   ``Mad cow disease   has killed 10,000 catt...</td>\n",
              "      <td>``Mad cow disease   has killed 10,000 cattl...</td>\n",
              "      <td>\"Mad cow disease\" (bovine spongiform encephalo...</td>\n",
              "      <td>summary-1-1.txt</td>\n",
              "      <td>\"Mad cow disease\" bovine spongiform encephalop...</td>\n",
              "      <td>{'rouge-1': {'r': 0.5333333333333333, 'p': 0.2...</td>\n",
              "      <td>0.357143</td>\n",
              "      <td>0.167742</td>\n",
              "      <td>0.330357</td>\n",
              "    </tr>\n",
              "    <tr>\n",
              "      <th>1</th>\n",
              "      <td>The UK will get strong backing from Brussels t...</td>\n",
              "      <td>doc-10.txt</td>\n",
              "      <td>[The UK will get strong backing from Brussels ...</td>\n",
              "      <td>[The UK get strong backing Brussels today Germ...</td>\n",
              "      <td>The UK get strong backing Brussels today Germa...</td>\n",
              "      <td>[today, British, Bonn, two years, Brussels, Br...</td>\n",
              "      <td>[Germany, BSE, British, Commission, Bonn, ban,...</td>\n",
              "      <td>[British, today, exports, Bonn, live, two year...</td>\n",
              "      <td>{'British': ['The UK get strong backing Brusse...</td>\n",
              "      <td>[1, 5, 9, 11]</td>\n",
              "      <td>[The European Commission planned to tell Germa...</td>\n",
              "      <td>The European Commission planned to tell German...</td>\n",
              "      <td>The European Commission will tell Germany toda...</td>\n",
              "      <td>summary-10-1.txt</td>\n",
              "      <td>The European Commission will tell Germany toda...</td>\n",
              "      <td>{'rouge-1': {'r': 0.52, 'p': 0.475609756097560...</td>\n",
              "      <td>0.496815</td>\n",
              "      <td>0.211055</td>\n",
              "      <td>0.458599</td>\n",
              "    </tr>\n",
              "    <tr>\n",
              "      <th>2</th>\n",
              "      <td>\\nIn a blow to California and other states wit...</td>\n",
              "      <td>doc-100.txt</td>\n",
              "      <td>[ In a blow to California and other states wit...</td>\n",
              "      <td>[In blow California states large immigrant pop...</td>\n",
              "      <td>In blow California states large immigrant popu...</td>\n",
              "      <td>[Congress, Community Development Block Grant, ...</td>\n",
              "      <td>[Pulido, Census, illegal, California, county, ...</td>\n",
              "      <td>[190 years, James Gorman, City, illegal, Bush,...</td>\n",
              "      <td>{'190 years': ['For 190 years , said Sen .'], ...</td>\n",
              "      <td>[0, 1, 5, 9, 13, 16, 17, 20, 21, 23, 26, 31, 3...</td>\n",
              "      <td>[ In a blow to California and other states wit...</td>\n",
              "      <td>In a blow to California and other states with...</td>\n",
              "      <td>Illegal aliens will not be counted in the 1990...</td>\n",
              "      <td>summary-100-1.txt</td>\n",
              "      <td>Illegal aliens will not be counted in the 1990...</td>\n",
              "      <td>{'rouge-1': {'r': 0.4794520547945205, 'p': 0.1...</td>\n",
              "      <td>0.246479</td>\n",
              "      <td>0.060606</td>\n",
              "      <td>0.239437</td>\n",
              "    </tr>\n",
              "    <tr>\n",
              "      <th>3</th>\n",
              "      <td>Three hours of steady rain Monday afternoon ...</td>\n",
              "      <td>doc-101.txt</td>\n",
              "      <td>[  Three hours of steady rain Monday afternoon...</td>\n",
              "      <td>[Three hours steady rain Monday afternoon prov...</td>\n",
              "      <td>Three hours steady rain Monday afternoon provi...</td>\n",
              "      <td>[six, 920 acres, Monday afternoon, 1,100 acres...</td>\n",
              "      <td>[Monday, Forest, National, Park, Damron, Blued...</td>\n",
              "      <td>[six, 920 acres, Monday afternoon, 1,100 acres...</td>\n",
              "      <td>{'six': ['On ground firefighters aided six eng...</td>\n",
              "      <td>[3, 5, 9, 14, 16]</td>\n",
              "      <td>[But the nearly quarter-inch of rain that fell...</td>\n",
              "      <td>But the nearly quarter-inch of rain that fell ...</td>\n",
              "      <td>Three hours of steady rain Monday provided a m...</td>\n",
              "      <td>summary-101-1.txt</td>\n",
              "      <td>Three hours of steady rain Monday provided a m...</td>\n",
              "      <td>{'rouge-1': {'r': 0.5, 'p': 0.34375, 'f': 0.40...</td>\n",
              "      <td>0.407407</td>\n",
              "      <td>0.208145</td>\n",
              "      <td>0.395062</td>\n",
              "    </tr>\n",
              "    <tr>\n",
              "      <th>4</th>\n",
              "      <td>A lightning-sparked fire in Utah's Zion Nati...</td>\n",
              "      <td>doc-102.txt</td>\n",
              "      <td>[  A lightning-sparked fire in Utah s Zion Nat...</td>\n",
              "      <td>[ lightning-sparked fire Utah Zion National Pa...</td>\n",
              "      <td>lightning-sparked fire Utah Zion National Par...</td>\n",
              "      <td>[18, Tennessee Division Forestry, 1,100 acres,...</td>\n",
              "      <td>[forest, National, fire, Tuesday, acres, fires...</td>\n",
              "      <td>[18, Tennessee Division Forestry, 1,100 acres,...</td>\n",
              "      <td>{'18': ['Kentucky Division Forestry reported 8...</td>\n",
              "      <td>[5, 6, 8, 9, 10, 12, 18, 22, 23, 26, 27, 28, 3...</td>\n",
              "      <td>[Last night it sounded like every fire alarm i...</td>\n",
              "      <td>Last night it sounded like every fire alarm in...</td>\n",
              "      <td>A lightning-sparked fire in Utah's Zion Nation...</td>\n",
              "      <td>summary-102-1.txt</td>\n",
              "      <td>A lightning-sparked fire in Utah's Zion Nation...</td>\n",
              "      <td>{'rouge-1': {'r': 0.43661971830985913, 'p': 0....</td>\n",
              "      <td>0.242187</td>\n",
              "      <td>0.058047</td>\n",
              "      <td>0.171875</td>\n",
              "    </tr>\n",
              "  </tbody>\n",
              "</table>\n",
              "</div>"
            ],
            "text/plain": [
              "                                               story  ... rouge-l f scores\n",
              "0     ``Mad cow disease'' has killed 10,000 cattl...  ...         0.330357\n",
              "1  The UK will get strong backing from Brussels t...  ...         0.458599\n",
              "2  \\nIn a blow to California and other states wit...  ...         0.239437\n",
              "3    Three hours of steady rain Monday afternoon ...  ...         0.395062\n",
              "4    A lightning-sparked fire in Utah's Zion Nati...  ...         0.171875\n",
              "\n",
              "[5 rows x 19 columns]"
            ]
          },
          "metadata": {},
          "execution_count": 9
        }
      ]
    },
    {
      "cell_type": "code",
      "metadata": {
        "colab": {
          "base_uri": "https://localhost:8080/"
        },
        "id": "XLQa1CKByiBd",
        "outputId": "253f7415-b3b5-44a3-984c-0fa828a7de25"
      },
      "source": [
        "duc_df.info()"
      ],
      "execution_count": null,
      "outputs": [
        {
          "output_type": "stream",
          "name": "stdout",
          "text": [
            "<class 'pandas.core.frame.DataFrame'>\n",
            "RangeIndex: 500 entries, 0 to 499\n",
            "Data columns (total 19 columns):\n",
            " #   Column                    Non-Null Count  Dtype  \n",
            "---  ------                    --------------  -----  \n",
            " 0   story                     500 non-null    object \n",
            " 1   filename                  500 non-null    object \n",
            " 2   original_sents            500 non-null    object \n",
            " 3   clean_sents               500 non-null    object \n",
            " 4   clean_para                500 non-null    object \n",
            " 5   entities                  500 non-null    object \n",
            " 6   keywords                  500 non-null    object \n",
            " 7   combined_keywords         500 non-null    object \n",
            " 8   word_sentence_dictionary  500 non-null    object \n",
            " 9   dominating_set            500 non-null    object \n",
            " 10  hypo_summary              500 non-null    object \n",
            " 11  hypo_summary_para         500 non-null    object \n",
            " 12  summary                   500 non-null    object \n",
            " 13  sumname                   500 non-null    object \n",
            " 14  ref_summary_para          500 non-null    object \n",
            " 15  rouge_values              500 non-null    object \n",
            " 16  rouge-1 f scores          500 non-null    float64\n",
            " 17  rouge-2 f scores          500 non-null    float64\n",
            " 18  rouge-l f scores          500 non-null    float64\n",
            "dtypes: float64(3), object(16)\n",
            "memory usage: 74.3+ KB\n"
          ]
        }
      ]
    },
    {
      "cell_type": "code",
      "metadata": {
        "id": "0OIi3Y-WyNPa"
      },
      "source": [
        "# drop columns\n",
        "\n",
        "duc_df = duc_df.drop(['word_sentence_dictionary', 'dominating_set', 'hypo_summary', 'hypo_summary_para', 'summary',  'rouge_values', 'rouge-1 f scores', 'rouge-2 f scores', 'rouge-l f scores'], axis = 1) "
      ],
      "execution_count": null,
      "outputs": []
    },
    {
      "cell_type": "code",
      "metadata": {
        "colab": {
          "base_uri": "https://localhost:8080/",
          "height": 536
        },
        "id": "T4hpRkVrzKC4",
        "outputId": "48a732f2-97d1-4581-c13e-28757cbff53e"
      },
      "source": [
        "duc_df.head()"
      ],
      "execution_count": null,
      "outputs": [
        {
          "output_type": "execute_result",
          "data": {
            "text/html": [
              "<div>\n",
              "<style scoped>\n",
              "    .dataframe tbody tr th:only-of-type {\n",
              "        vertical-align: middle;\n",
              "    }\n",
              "\n",
              "    .dataframe tbody tr th {\n",
              "        vertical-align: top;\n",
              "    }\n",
              "\n",
              "    .dataframe thead th {\n",
              "        text-align: right;\n",
              "    }\n",
              "</style>\n",
              "<table border=\"1\" class=\"dataframe\">\n",
              "  <thead>\n",
              "    <tr style=\"text-align: right;\">\n",
              "      <th></th>\n",
              "      <th>story</th>\n",
              "      <th>filename</th>\n",
              "      <th>original_sents</th>\n",
              "      <th>clean_sents</th>\n",
              "      <th>clean_para</th>\n",
              "      <th>entities</th>\n",
              "      <th>keywords</th>\n",
              "      <th>combined_keywords</th>\n",
              "      <th>sumname</th>\n",
              "      <th>ref_summary_para</th>\n",
              "    </tr>\n",
              "  </thead>\n",
              "  <tbody>\n",
              "    <tr>\n",
              "      <th>0</th>\n",
              "      <td>``Mad cow disease'' has killed 10,000 cattl...</td>\n",
              "      <td>doc-1.txt</td>\n",
              "      <td>[   ``Mad cow disease   has killed 10,000 catt...</td>\n",
              "      <td>[ Mad cow disease killed 10,000 cattle , restr...</td>\n",
              "      <td>Mad cow disease killed 10,000 cattle , restri...</td>\n",
              "      <td>[British, 1700s, february 9, Israel, Margaret ...</td>\n",
              "      <td>[BSE, disease, Britain, Agriculture, cattle, g...</td>\n",
              "      <td>[British, 1700s, february 9, report, Israel, M...</td>\n",
              "      <td>summary-1-1.txt</td>\n",
              "      <td>\"Mad cow disease\" bovine spongiform encephalop...</td>\n",
              "    </tr>\n",
              "    <tr>\n",
              "      <th>1</th>\n",
              "      <td>The UK will get strong backing from Brussels t...</td>\n",
              "      <td>doc-10.txt</td>\n",
              "      <td>[The UK will get strong backing from Brussels ...</td>\n",
              "      <td>[The UK get strong backing Brussels today Germ...</td>\n",
              "      <td>The UK get strong backing Brussels today Germa...</td>\n",
              "      <td>[today, British, Bonn, two years, Brussels, Br...</td>\n",
              "      <td>[Germany, BSE, British, Commission, Bonn, ban,...</td>\n",
              "      <td>[British, today, exports, Bonn, live, two year...</td>\n",
              "      <td>summary-10-1.txt</td>\n",
              "      <td>The European Commission will tell Germany toda...</td>\n",
              "    </tr>\n",
              "    <tr>\n",
              "      <th>2</th>\n",
              "      <td>\\nIn a blow to California and other states wit...</td>\n",
              "      <td>doc-100.txt</td>\n",
              "      <td>[ In a blow to California and other states wit...</td>\n",
              "      <td>[In blow California states large immigrant pop...</td>\n",
              "      <td>In blow California states large immigrant popu...</td>\n",
              "      <td>[Congress, Community Development Block Grant, ...</td>\n",
              "      <td>[Pulido, Census, illegal, California, county, ...</td>\n",
              "      <td>[190 years, James Gorman, City, illegal, Bush,...</td>\n",
              "      <td>summary-100-1.txt</td>\n",
              "      <td>Illegal aliens will not be counted in the 1990...</td>\n",
              "    </tr>\n",
              "    <tr>\n",
              "      <th>3</th>\n",
              "      <td>Three hours of steady rain Monday afternoon ...</td>\n",
              "      <td>doc-101.txt</td>\n",
              "      <td>[  Three hours of steady rain Monday afternoon...</td>\n",
              "      <td>[Three hours steady rain Monday afternoon prov...</td>\n",
              "      <td>Three hours steady rain Monday afternoon provi...</td>\n",
              "      <td>[six, 920 acres, Monday afternoon, 1,100 acres...</td>\n",
              "      <td>[Monday, Forest, National, Park, Damron, Blued...</td>\n",
              "      <td>[six, 920 acres, Monday afternoon, 1,100 acres...</td>\n",
              "      <td>summary-101-1.txt</td>\n",
              "      <td>Three hours of steady rain Monday provided a m...</td>\n",
              "    </tr>\n",
              "    <tr>\n",
              "      <th>4</th>\n",
              "      <td>A lightning-sparked fire in Utah's Zion Nati...</td>\n",
              "      <td>doc-102.txt</td>\n",
              "      <td>[  A lightning-sparked fire in Utah s Zion Nat...</td>\n",
              "      <td>[ lightning-sparked fire Utah Zion National Pa...</td>\n",
              "      <td>lightning-sparked fire Utah Zion National Par...</td>\n",
              "      <td>[18, Tennessee Division Forestry, 1,100 acres,...</td>\n",
              "      <td>[forest, National, fire, Tuesday, acres, fires...</td>\n",
              "      <td>[18, Tennessee Division Forestry, 1,100 acres,...</td>\n",
              "      <td>summary-102-1.txt</td>\n",
              "      <td>A lightning-sparked fire in Utah's Zion Nation...</td>\n",
              "    </tr>\n",
              "  </tbody>\n",
              "</table>\n",
              "</div>"
            ],
            "text/plain": [
              "                                               story  ...                                   ref_summary_para\n",
              "0     ``Mad cow disease'' has killed 10,000 cattl...  ...  \"Mad cow disease\" bovine spongiform encephalop...\n",
              "1  The UK will get strong backing from Brussels t...  ...  The European Commission will tell Germany toda...\n",
              "2  \\nIn a blow to California and other states wit...  ...  Illegal aliens will not be counted in the 1990...\n",
              "3    Three hours of steady rain Monday afternoon ...  ...  Three hours of steady rain Monday provided a m...\n",
              "4    A lightning-sparked fire in Utah's Zion Nati...  ...  A lightning-sparked fire in Utah's Zion Nation...\n",
              "\n",
              "[5 rows x 10 columns]"
            ]
          },
          "metadata": {},
          "execution_count": 12
        }
      ]
    },
    {
      "cell_type": "markdown",
      "metadata": {
        "id": "fS3o-xfTv92b"
      },
      "source": [
        "# Functions"
      ]
    },
    {
      "cell_type": "code",
      "metadata": {
        "id": "ZhTUlzLfwLn1"
      },
      "source": [
        "# find clean sentence dictionary \n",
        "\n",
        "def find_clean_sent_dict(cleaned_sentences):\n",
        "  cleansent_dict = {}\n",
        "  for i in range(len(cleaned_sentences)):\n",
        "    cleansent_dict[i] = cleaned_sentences[i]\n",
        "  return cleansent_dict"
      ],
      "execution_count": null,
      "outputs": []
    },
    {
      "cell_type": "code",
      "metadata": {
        "id": "siZwhPDy10QK"
      },
      "source": [
        "# create dictionary \n",
        "import re\n",
        "\n",
        "def create_hypergraph(updated_keyword_arr, cleaned_sentences, reverse_cleansent):\n",
        "  word_sentence_dictionary = dict()\n",
        "  for word in updated_keyword_arr:\n",
        "    sentences_with_word = []\n",
        "    for sentence in cleaned_sentences:\n",
        "      result = re.findall('\\\\b'+word+'[\\.|\\s]',sentence) \n",
        "      if len(result) > 0:\n",
        "        sentences_with_word.append(reverse_cleansent[sentence])\n",
        "    word_sentence_dictionary[word] = sentences_with_word\n",
        "  return word_sentence_dictionary"
      ],
      "execution_count": null,
      "outputs": []
    },
    {
      "cell_type": "code",
      "metadata": {
        "id": "LcbM1DdV6dAM"
      },
      "source": [
        "# find the number of sentences in every key value pair of the dictionary, arrange them in ascending order, remove top 2\n",
        "\n",
        "n = 2  # number of edges to be removed \n",
        "f = 5  # freq of high freq words \n",
        "\n",
        "def remove_high_freq_edges(word_sent_dict):\n",
        "  freq_dict = dict()  # word : no of sentences in its list \n",
        "  for i in word_sent_dict:\n",
        "    freq_dict[i] = len(word_sent_dict[i])\n",
        "\n",
        "  freq_dict_list = list(freq_dict.items())  # convert dictionary to a list of tuples\n",
        "  freq_dict_list.sort(key = lambda x : x[1]) # sort a/c to the second values in the tuple or frequency\n",
        "\n",
        "  # remove last 'n' entries if freq > 'f'\n",
        "  for i in range(n):\n",
        "    if(freq_dict_list[-1][1] > f):\n",
        "      word_sent_dict.pop(freq_dict_list[-1][0])\n",
        "      freq_dict_list.pop()\n",
        "\n",
        "  return word_sent_dict"
      ],
      "execution_count": null,
      "outputs": []
    },
    {
      "cell_type": "code",
      "metadata": {
        "id": "0xQ3rMJz9zWQ"
      },
      "source": [
        "# function to find the set in the list of dominating sets with maximum number of elements\n",
        "# return the first list with maximum number of elements\n",
        "\n",
        "def find_list_with_max_elements(dom_list):\n",
        "  no_of_elements = []  # find number of elements in every set \n",
        "  for i in range(len(dom_list)):\n",
        "    no_of_elements.append(len(dom_list[i]))  # length of every dominating set\n",
        "  max_ele = max(no_of_elements)\n",
        "\n",
        "  for i in range(len(dom_list)):\n",
        "    if len(dom_list[i]) == max_ele:\n",
        "      return i "
      ],
      "execution_count": null,
      "outputs": []
    },
    {
      "cell_type": "code",
      "metadata": {
        "id": "786CxTfZ-DRQ"
      },
      "source": [
        "# list of dominating set (original sentences) go in the 'story' column\n",
        "# original sentence in the story should be added in the summary \n",
        "\n",
        "\n",
        "def domination_row(keyword_sent_dict):\n",
        "  # finding neighbors\n",
        "  h = hnx.Hypergraph(keyword_sent_dict)\n",
        "  li = []\n",
        "  for i in list(h.nodes):\n",
        "      li.append(h.neighbors(i))\n",
        "\n",
        "  # Mapping nodes to numbers\n",
        "  mapp = {}\n",
        "  c = 0\n",
        "  for i in list(h.nodes):\n",
        "      mapp[i] = c\n",
        "      c = c + 1\n",
        "\n",
        "  # GFG code\n",
        "  # s = []\n",
        "  ver = len(li)\n",
        "  # visit = np.zeros(ver)\n",
        "\n",
        "  deg = {}\n",
        "  for i in range(len(li)):\n",
        "      deg[i] = len(li[i])\n",
        "\n",
        "  deg = dict(sorted(deg.items(), key = lambda item: item[1], reverse = True))\n",
        "\n",
        "  dom_li = []\n",
        "\n",
        "  for di in range(ver):\n",
        "    visit = np.zeros(ver)\n",
        "    s = []\n",
        "    \n",
        "    k = list(deg.keys())[0]\n",
        "    v = list(deg.values())[0]\n",
        "    for i in deg.keys():\n",
        "        if(visit[i] == 0):\n",
        "            s.append(i)\n",
        "            visit[i]=1\n",
        "            for j in range(len(li[i])):\n",
        "                if(visit[mapp[li[i][j]]]==0):\n",
        "                    visit[mapp[li[i][j]]]=1\n",
        "    deg.pop(list(deg.keys())[0])\n",
        "    deg[k] = v\n",
        "    dom_li.append(s)\n",
        "\n",
        "  return sorted(dom_li[find_list_with_max_elements(dom_li)]), mapp  # returns the dominating set with the maximum elements"
      ],
      "execution_count": null,
      "outputs": []
    },
    {
      "cell_type": "code",
      "metadata": {
        "id": "FniJ_crvCSNi"
      },
      "source": [
        "# Deleting empty lists from the dictionary\n",
        "\n",
        "def remove_keywords_with_empty_lists(word_sent_dict):\n",
        "  copy_dict = word_sent_dict.copy()\n",
        "  for i in copy_dict:\n",
        "    if copy_dict[i] == []:\n",
        "      word_sent_dict.pop(i)\n",
        "  return word_sent_dict"
      ],
      "execution_count": null,
      "outputs": []
    },
    {
      "cell_type": "code",
      "metadata": {
        "id": "hTZmoyV3xsMO"
      },
      "source": [
        "import spacy\n",
        "from spacy import displacy\n",
        "NER = spacy.load(\"en_core_web_sm\")  # nlp \n",
        "\n",
        "def find_entities(cleaned_para):\n",
        "  text1= NER(cleaned_para)\n",
        "  entities = []\n",
        "  for word in text1.ents:\n",
        "    entities.append(word.text)\n",
        "  l = set(entities) # remove duplicates\n",
        "  l = list(l)  # list type\n",
        "  return l"
      ],
      "execution_count": null,
      "outputs": []
    },
    {
      "cell_type": "code",
      "metadata": {
        "id": "N2WhTX84xtNM"
      },
      "source": [
        "import yake\n",
        "\n",
        "language = \"en\"\n",
        "max_ngram_size = 1  # 3/4 \n",
        "deduplication_thresold = 0.8\n",
        "deduplication_algo = 'seqm'\n",
        "windowSize = 5\n",
        "numOfKeywords = 20\n",
        "\n",
        "custom_kw_extractor = yake.KeywordExtractor(lan=language, n=max_ngram_size, dedupLim=deduplication_thresold, dedupFunc=deduplication_algo, windowsSize=windowSize, top=numOfKeywords, features=None)\n",
        "\n",
        "def find_keywords(cleaned_para):\n",
        "  keywords = custom_kw_extractor.extract_keywords(cleaned_para)\n",
        "  keyword_list = [keywords[x][0] for x in range(len(keywords))]\n",
        "\n",
        "  return keyword_list\n"
      ],
      "execution_count": null,
      "outputs": []
    },
    {
      "cell_type": "markdown",
      "metadata": {
        "id": "fVH57nQUxDgY"
      },
      "source": [
        "# DUC 2002"
      ]
    },
    {
      "cell_type": "code",
      "metadata": {
        "id": "TmMxl1gtxQgN"
      },
      "source": [
        "# find clean_sent dict\n",
        "# key = index of sent(int), value = sentence(str)\n",
        "\n",
        "duc_df['clean_sent_dict'] = duc_df['clean_sents'].apply(find_clean_sent_dict)"
      ],
      "execution_count": null,
      "outputs": []
    },
    {
      "cell_type": "code",
      "metadata": {
        "id": "LR3uY7_o1yYY"
      },
      "source": [
        "# reverse this dictionary\n",
        "\n",
        "duc_df['reverse_cleanset'] = duc_df['clean_sent_dict'].apply(lambda x: {v:k for k,v in x.items()})"
      ],
      "execution_count": null,
      "outputs": []
    },
    {
      "cell_type": "code",
      "metadata": {
        "id": "6XmMXZxj2kCW"
      },
      "source": [
        "# create word sentence dictionaries\n",
        "\n",
        "duc_df['word_sentence_dictionary'] = duc_df.apply(lambda x: create_hypergraph(x.combined_keywords ,x.clean_sents, x.reverse_cleanset), axis = 1)"
      ],
      "execution_count": null,
      "outputs": []
    },
    {
      "cell_type": "code",
      "metadata": {
        "id": "YY7x8QhD55Im"
      },
      "source": [
        "# remove high frequency words from the dictionary \n",
        "\n",
        "duc_df['word_sentence_dictionary'] = duc_df['word_sentence_dictionary'].apply(remove_high_freq_edges)"
      ],
      "execution_count": null,
      "outputs": []
    },
    {
      "cell_type": "code",
      "metadata": {
        "id": "ikwwKZ-RCV8n"
      },
      "source": [
        "# remove keywords with empty lists from the dictionary\n",
        "\n",
        "duc_df['word_sentence_dictionary'] = duc_df['word_sentence_dictionary'].apply(remove_keywords_with_empty_lists)"
      ],
      "execution_count": null,
      "outputs": []
    },
    {
      "cell_type": "code",
      "metadata": {
        "colab": {
          "base_uri": "https://localhost:8080/"
        },
        "id": "65PWzpDN6soJ",
        "outputId": "1b959215-ab0c-4589-ef44-b65b385a6b9c"
      },
      "source": [
        "# apply domination and return mapp dictionary \n",
        "\n",
        "# duc_df[['dominating_set', 'mapp_dict']] = duc_df.apply(lambda x: domination_row(x.word_sentence_dictionary), axis=1)\n",
        "\n",
        "duc_df['dominating_set'], duc_df['mapp_dict'] = zip(*duc_df['word_sentence_dictionary'].apply(domination_row))"
      ],
      "execution_count": null,
      "outputs": [
        {
          "output_type": "stream",
          "name": "stderr",
          "text": [
            "/usr/local/lib/python3.7/dist-packages/numpy/core/_asarray.py:83: VisibleDeprecationWarning: Creating an ndarray from ragged nested sequences (which is a list-or-tuple of lists-or-tuples-or ndarrays with different lengths or shapes) is deprecated. If you meant to do this, you must specify 'dtype=object' when creating the ndarray\n",
            "  return array(a, dtype, copy=False, order=order)\n"
          ]
        }
      ]
    },
    {
      "cell_type": "code",
      "metadata": {
        "id": "lLRzp9n3GloK"
      },
      "source": [
        "# find reverse of mapp dict \n",
        "\n",
        "duc_df['reverse_mapp'] = duc_df['mapp_dict'].apply(lambda x: {v:k for k,v in x.items()})"
      ],
      "execution_count": null,
      "outputs": []
    },
    {
      "cell_type": "code",
      "metadata": {
        "id": "bzkB53w7IJCj"
      },
      "source": [
        "# find indices of sentences from the nodes in dominating list \n",
        "\n",
        "duc_df['summary_sentences_indices'] = duc_df.apply((lambda x: [x.reverse_mapp[i] for i in x.dominating_set]), axis=1)"
      ],
      "execution_count": null,
      "outputs": []
    },
    {
      "cell_type": "code",
      "metadata": {
        "id": "Ph1-nrWAe3Om"
      },
      "source": [
        "# find system summary \n",
        "\n",
        "duc_df['hypo_summary'] = duc_df.apply((lambda x: [x.original_sents[i] for i in x.summary_sentences_indices]), axis=1)"
      ],
      "execution_count": null,
      "outputs": []
    },
    {
      "cell_type": "code",
      "metadata": {
        "id": "tTaQASK4h0dr"
      },
      "source": [
        "# convert all hypothesized summaries into paragraphs \n",
        "\n",
        "duc_df['hypo_summary_para'] = duc_df['hypo_summary'].apply(lambda x: \" \".join([str(w) for w in x]))"
      ],
      "execution_count": null,
      "outputs": []
    },
    {
      "cell_type": "code",
      "metadata": {
        "colab": {
          "base_uri": "https://localhost:8080/"
        },
        "id": "wLDc4zwLg3Pz",
        "outputId": "577f83c4-c561-4f9f-ac79-0fac4e20b322"
      },
      "source": [
        "duc_df.info()"
      ],
      "execution_count": null,
      "outputs": [
        {
          "output_type": "stream",
          "name": "stdout",
          "text": [
            "<class 'pandas.core.frame.DataFrame'>\n",
            "RangeIndex: 500 entries, 0 to 499\n",
            "Data columns (total 19 columns):\n",
            " #   Column                     Non-Null Count  Dtype \n",
            "---  ------                     --------------  ----- \n",
            " 0   story                      500 non-null    object\n",
            " 1   filename                   500 non-null    object\n",
            " 2   original_sents             500 non-null    object\n",
            " 3   clean_sents                500 non-null    object\n",
            " 4   clean_para                 500 non-null    object\n",
            " 5   entities                   500 non-null    object\n",
            " 6   keywords                   500 non-null    object\n",
            " 7   combined_keywords          500 non-null    object\n",
            " 8   sumname                    500 non-null    object\n",
            " 9   ref_summary_para           500 non-null    object\n",
            " 10  clean_sent_dict            500 non-null    object\n",
            " 11  reverse_cleanset           500 non-null    object\n",
            " 12  word_sentence_dictionary   500 non-null    object\n",
            " 13  dominating_set             500 non-null    object\n",
            " 14  mapp_dict                  500 non-null    object\n",
            " 15  reverse_mapp               500 non-null    object\n",
            " 16  summary_sentences_indices  500 non-null    object\n",
            " 17  hypo_summary               500 non-null    object\n",
            " 18  hypo_summary_para          500 non-null    object\n",
            "dtypes: object(19)\n",
            "memory usage: 74.3+ KB\n"
          ]
        }
      ]
    },
    {
      "cell_type": "code",
      "metadata": {
        "colab": {
          "base_uri": "https://localhost:8080/",
          "height": 122
        },
        "id": "5JsAiBwNhEIO",
        "outputId": "f9651daa-9e48-4bda-a2b1-ea18dc8d57a5"
      },
      "source": [
        "duc_df['ref_summary_para'][0]"
      ],
      "execution_count": null,
      "outputs": [
        {
          "output_type": "execute_result",
          "data": {
            "application/vnd.google.colaboratory.intrinsic+json": {
              "type": "string"
            },
            "text/plain": [
              "'\"Mad cow disease\" bovine spongiform encephalopathy or BSE has killed 10,000 cattle, restricted the export market for British beef and raised doubts about the safety of eating beef. Although the British government insists that the incurable disease poses only a remote risk to human health, scientists are not sure what causes the disease or how it is transmitted. It has symptoms similar to scrapie, a disease long observed in sheep, eating holes in the brains of its victims and in its late stages causing an animal to stagger drunkenly.  There are two human forms of spongiform encephalopathy: Creutzfeldt- Jakob disease and kuru.'"
            ]
          },
          "metadata": {},
          "execution_count": 34
        }
      ]
    },
    {
      "cell_type": "code",
      "metadata": {
        "colab": {
          "base_uri": "https://localhost:8080/",
          "height": 192
        },
        "id": "_aAtuzw9hpAU",
        "outputId": "1275d23c-bcfc-472e-b3c2-3198d5738a5c"
      },
      "source": [
        "duc_df['hypo_summary_para'][0]"
      ],
      "execution_count": null,
      "outputs": [
        {
          "output_type": "execute_result",
          "data": {
            "application/vnd.google.colaboratory.intrinsic+json": {
              "type": "string"
            },
            "text/plain": [
              "'Ireland s Department of Agriculture and Food said about 20 cases have been confirmed there, all of them near the border with the British province of Northern Ireland. The symptoms are very much like scrapie, a sheep disease which has been in Britain since the 1700s. The Southwood report said it was ``most unlikely   that the disease was a threat to humans. There is a human variant of spongiform encephalopathy, known as Creutzfeldt-Jakob disease. The disease struck one of his own cows, Gourlay said. ``In the course of 24 hours, the animal went from being ostensibly quite normal to very vicious and totally disoriented. The government insists the disease poses only a remote risk to human health, but scientists still aren t certain what causes the disease or how it is transmitted.    ``I think everyone agrees that the risks are low,   says Martin Raff, a neurobiologist at University College, London. ``But they certainly are not zero. Mad cow disease, or bovine spongiform encephalopathy, or BSE, was diagnosed only in 1986. Another form, known as kuru, had been found cannibals in New Guinea. Sheep offal is still used in pig and poultry feed.'"
            ]
          },
          "metadata": {},
          "execution_count": 35
        }
      ]
    },
    {
      "cell_type": "code",
      "metadata": {
        "id": "WYV7xM6ZhvuS"
      },
      "source": [
        "from rouge import Rouge\n",
        "\n",
        "rouge = Rouge()\n",
        "\n",
        "duc_df['rouge_values'] = duc_df.apply((lambda x: rouge.get_scores((x.hypo_summary_para).lower(), (x.ref_summary_para).lower() ,avg=True)), axis = 1)"
      ],
      "execution_count": null,
      "outputs": []
    },
    {
      "cell_type": "code",
      "metadata": {
        "colab": {
          "base_uri": "https://localhost:8080/"
        },
        "id": "eWqIeDyfifom",
        "outputId": "43ab7bfb-d452-4484-f401-54816de6bc3c"
      },
      "source": [
        "# avg of all rouge-1 f scores \n",
        "\n",
        "duc_df['rouge-1 f scores'] = duc_df['rouge_values'].apply(lambda x: x['rouge-1']['f'])\n",
        "duc_df['rouge-1 f scores'].mean()"
      ],
      "execution_count": null,
      "outputs": [
        {
          "output_type": "execute_result",
          "data": {
            "text/plain": [
              "0.298958969819007"
            ]
          },
          "metadata": {},
          "execution_count": 37
        }
      ]
    },
    {
      "cell_type": "code",
      "metadata": {
        "colab": {
          "base_uri": "https://localhost:8080/",
          "height": 500
        },
        "id": "RiFj5Nssttau",
        "outputId": "30f016ac-03c0-4002-8698-ae2a2dcfab79"
      },
      "source": [
        "import matplotlib.pyplot as plt\n",
        "plt.plot(duc_df['rouge-1 f scores'],  color =\"red\")"
      ],
      "execution_count": null,
      "outputs": [
        {
          "output_type": "execute_result",
          "data": {
            "text/plain": [
              "[<matplotlib.lines.Line2D at 0x7f89e5a58790>]"
            ]
          },
          "metadata": {},
          "execution_count": 38
        },
        {
          "output_type": "display_data",
          "data": {
            "image/png": "[encoded data removed]",
            "text/plain": [
              "<Figure size 576x576 with 1 Axes>"
            ]
          },
          "metadata": {
            "needs_background": "light"
          }
        }
      ]
    },
    {
      "cell_type": "code",
      "metadata": {
        "colab": {
          "base_uri": "https://localhost:8080/"
        },
        "id": "EJEgIL9ztU7c",
        "outputId": "bb33ab45-1c57-4583-d77b-d9d14732a37e"
      },
      "source": [
        "duc_df['rouge-1 f scores'].max()"
      ],
      "execution_count": null,
      "outputs": [
        {
          "output_type": "execute_result",
          "data": {
            "text/plain": [
              "0.6225165513547652"
            ]
          },
          "metadata": {},
          "execution_count": 39
        }
      ]
    },
    {
      "cell_type": "code",
      "metadata": {
        "colab": {
          "base_uri": "https://localhost:8080/"
        },
        "id": "oun4jWSCtX9a",
        "outputId": "8c53c224-2959-4ffa-f8a3-6e269e9e77d2"
      },
      "source": [
        "duc_df['rouge-1 f scores'].min()"
      ],
      "execution_count": null,
      "outputs": [
        {
          "output_type": "execute_result",
          "data": {
            "text/plain": [
              "0.08179958869693593"
            ]
          },
          "metadata": {},
          "execution_count": 40
        }
      ]
    },
    {
      "cell_type": "code",
      "metadata": {
        "colab": {
          "base_uri": "https://localhost:8080/"
        },
        "id": "s7XpN6xdi0M5",
        "outputId": "57c08f3d-6d73-4ac3-f1d0-0cf052907f55"
      },
      "source": [
        "# rouge 2 f1 scores\n",
        "\n",
        "duc_df['rouge-2 f scores'] = duc_df['rouge_values'].apply(lambda x: x['rouge-2']['f'])\n",
        "duc_df['rouge-2 f scores'].mean()"
      ],
      "execution_count": null,
      "outputs": [
        {
          "output_type": "execute_result",
          "data": {
            "text/plain": [
              "0.10753904379325141"
            ]
          },
          "metadata": {},
          "execution_count": 41
        }
      ]
    },
    {
      "cell_type": "code",
      "metadata": {
        "colab": {
          "base_uri": "https://localhost:8080/"
        },
        "id": "rZ0ULok0tPIH",
        "outputId": "fe0d337d-fc77-441d-b444-c5f168b0f94e"
      },
      "source": [
        "duc_df['rouge-2 f scores'].max()"
      ],
      "execution_count": null,
      "outputs": [
        {
          "output_type": "execute_result",
          "data": {
            "text/plain": [
              "0.4858757012723037"
            ]
          },
          "metadata": {},
          "execution_count": 42
        }
      ]
    },
    {
      "cell_type": "code",
      "metadata": {
        "colab": {
          "base_uri": "https://localhost:8080/"
        },
        "id": "0CL6WPp4tR_p",
        "outputId": "e3ff3823-67b3-4d80-9a37-8da40c3b59ff"
      },
      "source": [
        "duc_df['rouge-2 f scores'].min()"
      ],
      "execution_count": null,
      "outputs": [
        {
          "output_type": "execute_result",
          "data": {
            "text/plain": [
              "0.0"
            ]
          },
          "metadata": {},
          "execution_count": 43
        }
      ]
    },
    {
      "cell_type": "code",
      "metadata": {
        "colab": {
          "base_uri": "https://localhost:8080/",
          "height": 500
        },
        "id": "b0I-mILVuEkn",
        "outputId": "f0081a33-b17d-4283-c6ca-c7d29566715b"
      },
      "source": [
        "import matplotlib.pyplot as plt\n",
        "plt.plot(duc_df['rouge-2 f scores'],  color =\"red\")"
      ],
      "execution_count": null,
      "outputs": [
        {
          "output_type": "execute_result",
          "data": {
            "text/plain": [
              "[<matplotlib.lines.Line2D at 0x7f89e542f390>]"
            ]
          },
          "metadata": {},
          "execution_count": 44
        },
        {
          "output_type": "display_data",
          "data": {
            "image/png": "[encoded data removed]",
            "text/plain": [
              "<Figure size 576x576 with 1 Axes>"
            ]
          },
          "metadata": {
            "needs_background": "light"
          }
        }
      ]
    },
    {
      "cell_type": "code",
      "metadata": {
        "colab": {
          "base_uri": "https://localhost:8080/"
        },
        "id": "-3jKP78si52P",
        "outputId": "3894210d-eb6b-4e3d-f32b-a8c93624382e"
      },
      "source": [
        "# rouge l f1 scores\n",
        "\n",
        "duc_df['rouge-l f scores'] = duc_df['rouge_values'].apply(lambda x: x['rouge-l']['f'])\n",
        "duc_df['rouge-l f scores'].mean()"
      ],
      "execution_count": null,
      "outputs": [
        {
          "output_type": "execute_result",
          "data": {
            "text/plain": [
              "0.27212566312615616"
            ]
          },
          "metadata": {},
          "execution_count": 45
        }
      ]
    },
    {
      "cell_type": "code",
      "metadata": {
        "id": "Z3fkbws9i_KM"
      },
      "source": [
        "duc_df.to_pickle('duc_full_updated_domination.pkl')"
      ],
      "execution_count": null,
      "outputs": []
    },
    {
      "cell_type": "code",
      "metadata": {
        "colab": {
          "base_uri": "https://localhost:8080/",
          "height": 139
        },
        "id": "9IXfWp6yjRkD",
        "outputId": "0683d458-f7ec-4aff-cf6d-c369ef287123"
      },
      "source": [
        "duc_df['hypo_summary_para'][0]"
      ],
      "execution_count": null,
      "outputs": [
        {
          "output_type": "execute_result",
          "data": {
            "application/vnd.google.colaboratory.intrinsic+json": {
              "type": "string"
            },
            "text/plain": [
              "'Ireland s Department of Agriculture and Food said about 20 cases have been confirmed there, all of them near the border with the British province of Northern Ireland. The symptoms are very much like scrapie, a sheep disease which has been in Britain since the 1700s. The Southwood report said it was ``most unlikely   that the disease was a threat to humans. There is a human variant of spongiform encephalopathy, known as Creutzfeldt-Jakob disease. The disease struck one of his own cows, Gourlay said. ``In the course of 24 hours, the animal went from being ostensibly quite normal to very vicious and totally disoriented. The government insists the disease poses only a remote risk to human health, but scientists still aren t certain what causes the disease or how it is transmitted.    ``I think everyone agrees that the risks are low,   says Martin Raff, a neurobiologist at University College, London. ``But they certainly are not zero. Mad cow disease, or bovine spongiform encephalopathy, or BSE, was diagnosed only in 1986. Another form, known as kuru, had been found cannibals in New Guinea. Sheep offal is still used in pig and poultry feed.'"
            ]
          },
          "metadata": {},
          "execution_count": 170
        }
      ]
    },
    {
      "cell_type": "code",
      "metadata": {
        "colab": {
          "base_uri": "https://localhost:8080/",
          "height": 105
        },
        "id": "7Zh48N5FkCW-",
        "outputId": "093c62b4-4b5b-4d52-d021-3dd996c95035"
      },
      "source": [
        "duc_df['ref_summary_para'][0]"
      ],
      "execution_count": null,
      "outputs": [
        {
          "output_type": "execute_result",
          "data": {
            "application/vnd.google.colaboratory.intrinsic+json": {
              "type": "string"
            },
            "text/plain": [
              "'\"Mad cow disease\" bovine spongiform encephalopathy or BSE has killed 10,000 cattle, restricted the export market for British beef and raised doubts about the safety of eating beef. Although the British government insists that the incurable disease poses only a remote risk to human health, scientists are not sure what causes the disease or how it is transmitted. It has symptoms similar to scrapie, a disease long observed in sheep, eating holes in the brains of its victims and in its late stages causing an animal to stagger drunkenly.  There are two human forms of spongiform encephalopathy: Creutzfeldt- Jakob disease and kuru.'"
            ]
          },
          "metadata": {},
          "execution_count": 171
        }
      ]
    },
    {
      "cell_type": "code",
      "metadata": {
        "colab": {
          "base_uri": "https://localhost:8080/"
        },
        "id": "_Q1yL6pQkJ0w",
        "outputId": "5240f82c-ab93-493c-e4a7-08ac14630fec"
      },
      "source": [
        "duc_df['dominating_set'][0]"
      ],
      "execution_count": null,
      "outputs": [
        {
          "output_type": "execute_result",
          "data": {
            "text/plain": [
              "[0, 3, 5, 10, 16, 17, 20, 22, 25]"
            ]
          },
          "metadata": {},
          "execution_count": 172
        }
      ]
    },
    {
      "cell_type": "code",
      "metadata": {
        "colab": {
          "base_uri": "https://localhost:8080/"
        },
        "id": "OCMRbDzUkhzA",
        "outputId": "06dff839-22e7-4ce3-c0a5-ba2547d2670d"
      },
      "source": [
        "duc_df['hypo_summary'][0]"
      ],
      "execution_count": null,
      "outputs": [
        {
          "output_type": "execute_result",
          "data": {
            "text/plain": [
              "['Ireland s Department of Agriculture and Food said about 20 cases have been confirmed there, all of them near the border with the British province of Northern Ireland.',\n",
              " 'The symptoms are very much like scrapie, a sheep disease which has been in Britain since the 1700s.',\n",
              " 'The Southwood report said it was ``most unlikely   that the disease was a threat to humans.',\n",
              " 'There is a human variant of spongiform encephalopathy, known as Creutzfeldt-Jakob disease.',\n",
              " 'The disease struck one of his own cows, Gourlay said. ``In the course of 24 hours, the animal went from being ostensibly quite normal to very vicious and totally disoriented.',\n",
              " 'The government insists the disease poses only a remote risk to human health, but scientists still aren t certain what causes the disease or how it is transmitted.    ``I think everyone agrees that the risks are low,   says Martin Raff, a neurobiologist at University College, London. ``But they certainly are not zero.',\n",
              " 'Mad cow disease, or bovine spongiform encephalopathy, or BSE, was diagnosed only in 1986.',\n",
              " 'Another form, known as kuru, had been found cannibals in New Guinea.',\n",
              " 'Sheep offal is still used in pig and poultry feed.']"
            ]
          },
          "metadata": {},
          "execution_count": 173
        }
      ]
    },
    {
      "cell_type": "code",
      "source": [
        "import pickle \n",
        "import pandas as pd\n",
        "\n",
        "duc_df = pd.read_pickle(\"/content/gdrive/MyDrive/summarisation_dataset/final_dataframes/duc_full_updated_domination.pkl\")"
      ],
      "metadata": {
        "id": "Bilgu4IJwQRz"
      },
      "execution_count": null,
      "outputs": []
    },
    {
      "cell_type": "code",
      "source": [
        "duc_df.info()"
      ],
      "metadata": {
        "colab": {
          "base_uri": "https://localhost:8080/"
        },
        "id": "PDHeEGvuw2Kz",
        "outputId": "059c6a53-1d1a-4d8b-d4f0-cc30225f3d74"
      },
      "execution_count": null,
      "outputs": [
        {
          "output_type": "stream",
          "name": "stdout",
          "text": [
            "<class 'pandas.core.frame.DataFrame'>\n",
            "RangeIndex: 500 entries, 0 to 499\n",
            "Data columns (total 23 columns):\n",
            " #   Column                     Non-Null Count  Dtype  \n",
            "---  ------                     --------------  -----  \n",
            " 0   story                      500 non-null    object \n",
            " 1   filename                   500 non-null    object \n",
            " 2   original_sents             500 non-null    object \n",
            " 3   clean_sents                500 non-null    object \n",
            " 4   clean_para                 500 non-null    object \n",
            " 5   entities                   500 non-null    object \n",
            " 6   keywords                   500 non-null    object \n",
            " 7   combined_keywords          500 non-null    object \n",
            " 8   sumname                    500 non-null    object \n",
            " 9   ref_summary_para           500 non-null    object \n",
            " 10  clean_sent_dict            500 non-null    object \n",
            " 11  reverse_cleanset           500 non-null    object \n",
            " 12  word_sentence_dictionary   500 non-null    object \n",
            " 13  dominating_set             500 non-null    object \n",
            " 14  mapp_dict                  500 non-null    object \n",
            " 15  reverse_mapp               500 non-null    object \n",
            " 16  summary_sentences_indices  500 non-null    object \n",
            " 17  hypo_summary               500 non-null    object \n",
            " 18  hypo_summary_para          500 non-null    object \n",
            " 19  rouge_values               500 non-null    object \n",
            " 20  rouge-1 f scores           500 non-null    float64\n",
            " 21  rouge-2 f scores           500 non-null    float64\n",
            " 22  rouge-l f scores           500 non-null    float64\n",
            "dtypes: float64(3), object(20)\n",
            "memory usage: 90.0+ KB\n"
          ]
        }
      ]
    },
    {
      "cell_type": "code",
      "source": [
        "duc_df['rouge_values'][0]"
      ],
      "metadata": {
        "colab": {
          "base_uri": "https://localhost:8080/"
        },
        "id": "E0lUETwvxTeU",
        "outputId": "9a2d2793-443f-4c16-bb90-6c28fb6d2ffc"
      },
      "execution_count": null,
      "outputs": [
        {
          "output_type": "execute_result",
          "data": {
            "text/plain": [
              "{'rouge-1': {'f': 0.3428571382653062, 'p': 0.26666666666666666, 'r': 0.48},\n",
              " 'rouge-2': {'f': 0.1608391562704779,\n",
              "  'p': 0.12432432432432433,\n",
              "  'r': 0.22772277227722773},\n",
              " 'rouge-l': {'f': 0.3238095192176871,\n",
              "  'p': 0.2518518518518518,\n",
              "  'r': 0.4533333333333333}}"
            ]
          },
          "metadata": {},
          "execution_count": 49
        }
      ]
    },
    {
      "cell_type": "markdown",
      "source": [
        "ROUGE 1 "
      ],
      "metadata": {
        "id": "IAQP7g2pxc77"
      }
    },
    {
      "cell_type": "code",
      "source": [
        "# rouge 1 r scores\n",
        "\n",
        "duc_df['rouge-1 r scores'] = duc_df['rouge_values'].apply(lambda x: x['rouge-1']['r'])\n",
        "duc_df['rouge-1 r scores'].mean()"
      ],
      "metadata": {
        "colab": {
          "base_uri": "https://localhost:8080/"
        },
        "id": "xet4UHqjw7ue",
        "outputId": "815038d3-086a-4230-fc00-2b1be55f07d7"
      },
      "execution_count": null,
      "outputs": [
        {
          "output_type": "execute_result",
          "data": {
            "text/plain": [
              "0.44712479695345675"
            ]
          },
          "metadata": {},
          "execution_count": 50
        }
      ]
    },
    {
      "cell_type": "code",
      "source": [
        "duc_df['rouge-1 r scores'].min()"
      ],
      "metadata": {
        "colab": {
          "base_uri": "https://localhost:8080/"
        },
        "id": "t3_hnVcu-6hO",
        "outputId": "f0b6ce1b-3c40-4b2d-b548-81f4ba45878d"
      },
      "execution_count": null,
      "outputs": [
        {
          "output_type": "execute_result",
          "data": {
            "text/plain": [
              "0.12222222222222222"
            ]
          },
          "metadata": {},
          "execution_count": 53
        }
      ]
    },
    {
      "cell_type": "code",
      "source": [
        "duc_df['rouge-1 r scores'].max()"
      ],
      "metadata": {
        "colab": {
          "base_uri": "https://localhost:8080/"
        },
        "id": "6RN3V4kD--M_",
        "outputId": "7d263c4c-53a5-454f-9400-d7c4829b3ab9"
      },
      "execution_count": null,
      "outputs": [
        {
          "output_type": "execute_result",
          "data": {
            "text/plain": [
              "0.8059701492537313"
            ]
          },
          "metadata": {},
          "execution_count": 54
        }
      ]
    },
    {
      "cell_type": "code",
      "source": [
        "# rouge 1 p scores\n",
        "\n",
        "duc_df['rouge-1 p scores'] = duc_df['rouge_values'].apply(lambda x: x['rouge-1']['p'])\n",
        "duc_df['rouge-1 p scores'].mean()"
      ],
      "metadata": {
        "colab": {
          "base_uri": "https://localhost:8080/"
        },
        "id": "c03Zfd3c8J80",
        "outputId": "fa71ebbd-86cb-4b9a-8342-0be2d0ac8709"
      },
      "execution_count": null,
      "outputs": [
        {
          "output_type": "execute_result",
          "data": {
            "text/plain": [
              "0.23951801711579887"
            ]
          },
          "metadata": {},
          "execution_count": 51
        }
      ]
    },
    {
      "cell_type": "code",
      "source": [
        "duc_df['rouge-1 p scores'].min()"
      ],
      "metadata": {
        "colab": {
          "base_uri": "https://localhost:8080/"
        },
        "id": "OdiW5Tds_Chk",
        "outputId": "b8e58290-da06-4f11-ba18-fc8831866c74"
      },
      "execution_count": null,
      "outputs": [
        {
          "output_type": "execute_result",
          "data": {
            "text/plain": [
              "0.04716981132075472"
            ]
          },
          "metadata": {},
          "execution_count": 55
        }
      ]
    },
    {
      "cell_type": "code",
      "source": [
        "duc_df['rouge-1 p scores'].max()"
      ],
      "metadata": {
        "colab": {
          "base_uri": "https://localhost:8080/"
        },
        "id": "v2kb030o_GmH",
        "outputId": "a49b3eb5-3cb0-4028-d53e-f7820649e840"
      },
      "execution_count": null,
      "outputs": [
        {
          "output_type": "execute_result",
          "data": {
            "text/plain": [
              "0.9838709677419355"
            ]
          },
          "metadata": {},
          "execution_count": 56
        }
      ]
    },
    {
      "cell_type": "code",
      "source": [
        "# rouge 1 f scores\n",
        "\n",
        "duc_df['rouge-1 f1 scores'] = duc_df['rouge_values'].apply(lambda x: x['rouge-1']['f'])\n",
        "duc_df['rouge-1 f1 scores'].mean()"
      ],
      "metadata": {
        "colab": {
          "base_uri": "https://localhost:8080/"
        },
        "id": "RKoM18u-8RCH",
        "outputId": "02b79ee5-616d-4771-904c-522cdd017c35"
      },
      "execution_count": null,
      "outputs": [
        {
          "output_type": "execute_result",
          "data": {
            "text/plain": [
              "0.298958969819007"
            ]
          },
          "metadata": {},
          "execution_count": 52
        }
      ]
    },
    {
      "cell_type": "code",
      "source": [
        "duc_df['rouge-1 f1 scores'].min()"
      ],
      "metadata": {
        "colab": {
          "base_uri": "https://localhost:8080/"
        },
        "id": "6WVURObw_KIK",
        "outputId": "3088b92f-af58-4e11-c357-225f5d5cb116"
      },
      "execution_count": null,
      "outputs": [
        {
          "output_type": "execute_result",
          "data": {
            "text/plain": [
              "0.08179958869693593"
            ]
          },
          "metadata": {},
          "execution_count": 57
        }
      ]
    },
    {
      "cell_type": "code",
      "source": [
        "duc_df['rouge-1 f1 scores'].max()"
      ],
      "metadata": {
        "colab": {
          "base_uri": "https://localhost:8080/"
        },
        "id": "JTePcWjg_M_k",
        "outputId": "732b6cb7-bd44-4a97-d268-fe57f3336614"
      },
      "execution_count": null,
      "outputs": [
        {
          "output_type": "execute_result",
          "data": {
            "text/plain": [
              "0.6225165513547652"
            ]
          },
          "metadata": {},
          "execution_count": 58
        }
      ]
    },
    {
      "cell_type": "markdown",
      "source": [
        "ROUGE 2"
      ],
      "metadata": {
        "id": "V6aZNmJn_UYD"
      }
    },
    {
      "cell_type": "code",
      "source": [
        "# RECALL\n",
        "# rouge 2 r scores\n",
        "\n",
        "duc_df['rouge-2 r scores'] = duc_df['rouge_values'].apply(lambda x: x['rouge-2']['r'])\n",
        "\n",
        "print(\"Rouge-2 recall mean = \", end=\" \")\n",
        "print(duc_df['rouge-2 r scores'].mean())\n",
        "\n",
        "print(\"Rouge-2 recall min = \", end=\" \")\n",
        "print(duc_df['rouge-2 r scores'].min())\n",
        "\n",
        "print(\"Rouge-2 recall max = \", end=\" \")\n",
        "print(duc_df['rouge-2 r scores'].max())"
      ],
      "metadata": {
        "colab": {
          "base_uri": "https://localhost:8080/"
        },
        "id": "XHMA8LvK_T8_",
        "outputId": "d4971998-0b2a-41af-f478-12ba058ae20e"
      },
      "execution_count": null,
      "outputs": [
        {
          "output_type": "stream",
          "name": "stdout",
          "text": [
            "Rouge-2 recall mean =  0.16311785716070748\n",
            "Rouge-2 recall min =  0.0\n",
            "Rouge-2 recall max =  0.6195652173913043\n"
          ]
        }
      ]
    },
    {
      "cell_type": "code",
      "source": [
        "# PRECISION\n",
        "# rouge 2 p scores\n",
        "\n",
        "duc_df['rouge-2 p scores'] = duc_df['rouge_values'].apply(lambda x: x['rouge-2']['p'])\n",
        "\n",
        "print(\"Rouge-2 precision mean = \", end=\" \")\n",
        "print(duc_df['rouge-2 p scores'].mean())\n",
        "\n",
        "print(\"Rouge-2 precision min = \", end=\" \")\n",
        "print(duc_df['rouge-2 p scores'].min())\n",
        "\n",
        "print(\"Rouge-2 precision max = \", end=\" \")\n",
        "print(duc_df['rouge-2 p scores'].max())"
      ],
      "metadata": {
        "colab": {
          "base_uri": "https://localhost:8080/"
        },
        "id": "7L5BKYI5ALog",
        "outputId": "ca3afb93-5dcf-4cfe-9e5f-f415077743b0"
      },
      "execution_count": null,
      "outputs": [
        {
          "output_type": "stream",
          "name": "stdout",
          "text": [
            "Rouge-2 precision mean =  0.08773950585990067\n",
            "Rouge-2 precision min =  0.0\n",
            "Rouge-2 precision max =  0.8783783783783784\n"
          ]
        }
      ]
    },
    {
      "cell_type": "code",
      "source": [
        "# F Score\n",
        "# rouge 2 f scores\n",
        "\n",
        "duc_df['rouge-2 f scores'] = duc_df['rouge_values'].apply(lambda x: x['rouge-2']['f'])\n",
        "\n",
        "print(\"Rouge-2 f mean = \", end=\" \")\n",
        "print(duc_df['rouge-2 f scores'].mean())\n",
        "\n",
        "print(\"Rouge-2 f min = \", end=\" \")\n",
        "print(duc_df['rouge-2 f scores'].min())\n",
        "\n",
        "print(\"Rouge-2 f max = \", end=\" \")\n",
        "print(duc_df['rouge-2 f scores'].max())"
      ],
      "metadata": {
        "colab": {
          "base_uri": "https://localhost:8080/"
        },
        "id": "m7tqlYKuAhjB",
        "outputId": "39fb8a64-39b6-47bd-f80f-ae4f4d2c1254"
      },
      "execution_count": null,
      "outputs": [
        {
          "output_type": "stream",
          "name": "stdout",
          "text": [
            "Rouge-2 f mean =  0.10753904379325141\n",
            "Rouge-2 f min =  0.0\n",
            "Rouge-2 f max =  0.4858757012723037\n"
          ]
        }
      ]
    },
    {
      "cell_type": "markdown",
      "source": [
        "ROUGE L"
      ],
      "metadata": {
        "id": "x_7dPrQMBAVW"
      }
    },
    {
      "cell_type": "code",
      "source": [
        "# RECALL\n",
        "# rouge l r scores\n",
        "\n",
        "duc_df['rouge-l r scores'] = duc_df['rouge_values'].apply(lambda x: x['rouge-l']['r'])\n",
        "\n",
        "print(\"Rouge-l recall mean = \", end=\" \")\n",
        "print(duc_df['rouge-l r scores'].mean())\n",
        "\n",
        "print(\"Rouge-l recall min = \", end=\" \")\n",
        "print(duc_df['rouge-l r scores'].min())\n",
        "\n",
        "print(\"Rouge-l recall max = \", end=\" \")\n",
        "print(duc_df['rouge-l r scores'].max())"
      ],
      "metadata": {
        "colab": {
          "base_uri": "https://localhost:8080/"
        },
        "id": "ThYtgRRLBEtQ",
        "outputId": "2d5cf948-4f98-41c6-a58e-fa20ded3c3bc"
      },
      "execution_count": null,
      "outputs": [
        {
          "output_type": "stream",
          "name": "stdout",
          "text": [
            "Rouge-l recall mean =  0.40665534990463903\n",
            "Rouge-l recall min =  0.12222222222222222\n",
            "Rouge-l recall max =  0.8059701492537313\n"
          ]
        }
      ]
    },
    {
      "cell_type": "code",
      "source": [
        "# PRECISION\n",
        "# rouge l p scores\n",
        "\n",
        "duc_df['rouge-l p scores'] = duc_df['rouge_values'].apply(lambda x: x['rouge-l']['p'])\n",
        "\n",
        "print(\"Rouge-l precision mean = \", end=\" \")\n",
        "print(duc_df['rouge-l p scores'].mean())\n",
        "\n",
        "print(\"Rouge-l precision min = \", end=\" \")\n",
        "print(duc_df['rouge-l p scores'].min())\n",
        "\n",
        "print(\"Rouge-l precision max = \", end=\" \")\n",
        "print(duc_df['rouge-l p scores'].max())"
      ],
      "metadata": {
        "colab": {
          "base_uri": "https://localhost:8080/"
        },
        "id": "RpgZ8DuPBT0L",
        "outputId": "54514888-ea09-46dc-b33a-bb8735dc7c19"
      },
      "execution_count": null,
      "outputs": [
        {
          "output_type": "stream",
          "name": "stdout",
          "text": [
            "Rouge-l precision mean =  0.21817873884990757\n",
            "Rouge-l precision min =  0.04326123128119801\n",
            "Rouge-l precision max =  0.9838709677419355\n"
          ]
        }
      ]
    },
    {
      "cell_type": "code",
      "source": [
        "# f score\n",
        "# rouge l f scores\n",
        "\n",
        "duc_df['rouge-l f scores'] = duc_df['rouge_values'].apply(lambda x: x['rouge-l']['f'])\n",
        "\n",
        "print(\"Rouge-l f mean = \", end=\" \")\n",
        "print(duc_df['rouge-l f scores'].mean())\n",
        "\n",
        "print(\"Rouge-l f min = \", end=\" \")\n",
        "print(duc_df['rouge-l f scores'].min())\n",
        "\n",
        "print(\"Rouge-l f max = \", end=\" \")\n",
        "print(duc_df['rouge-l f scores'].max())"
      ],
      "metadata": {
        "colab": {
          "base_uri": "https://localhost:8080/"
        },
        "id": "zWf22-mnBi4s",
        "outputId": "48e5fa93-9a1a-4eea-8c5c-1724ea193039"
      },
      "execution_count": null,
      "outputs": [
        {
          "output_type": "stream",
          "name": "stdout",
          "text": [
            "Rouge-l f mean =  0.27212566312615616\n",
            "Rouge-l f min =  0.07784430957245692\n",
            "Rouge-l f max =  0.6092715182421824\n"
          ]
        }
      ]
    },
    {
      "cell_type": "markdown",
      "metadata": {
        "id": "p2Wtm6gsuPmU"
      },
      "source": [
        "# 100 DOC "
      ]
    },
    {
      "cell_type": "code",
      "metadata": {
        "colab": {
          "base_uri": "https://localhost:8080/",
          "height": 293
        },
        "id": "MNR7m-9mvMd3",
        "outputId": "c1152b15-d83e-41ab-e7ac-b432ee7e5d8b"
      },
      "source": [
        "# /content/gdrive/MyDrive/summarisation_dataset/essg_cleaned.pkl\n",
        "\n",
        "essg_df = pd.read_pickle('/content/gdrive/MyDrive/summarisation_dataset/essg_cleaned.pkl')\n",
        "essg_df.head()"
      ],
      "execution_count": null,
      "outputs": [
        {
          "output_type": "execute_result",
          "data": {
            "text/html": [
              "<div>\n",
              "<style scoped>\n",
              "    .dataframe tbody tr th:only-of-type {\n",
              "        vertical-align: middle;\n",
              "    }\n",
              "\n",
              "    .dataframe tbody tr th {\n",
              "        vertical-align: top;\n",
              "    }\n",
              "\n",
              "    .dataframe thead th {\n",
              "        text-align: right;\n",
              "    }\n",
              "</style>\n",
              "<table border=\"1\" class=\"dataframe\">\n",
              "  <thead>\n",
              "    <tr style=\"text-align: right;\">\n",
              "      <th></th>\n",
              "      <th>story</th>\n",
              "      <th>summary</th>\n",
              "      <th>filename</th>\n",
              "      <th>original_sents</th>\n",
              "      <th>clean_sents</th>\n",
              "    </tr>\n",
              "  </thead>\n",
              "  <tbody>\n",
              "    <tr>\n",
              "      <th>0</th>\n",
              "      <td>In the 17th century, Isaac Newton discovered t...</td>\n",
              "      <td>[[comparing newton's observation of prismatic ...</td>\n",
              "      <td>10.txt</td>\n",
              "      <td>[In the 17th century, Isaac Newton discovered ...</td>\n",
              "      <td>[In 17th century , Isaac Newton discovered pri...</td>\n",
              "    </tr>\n",
              "    <tr>\n",
              "      <th>1</th>\n",
              "      <td>﻿A sea is a large body of salt water that is s...</td>\n",
              "      <td>[[owing to the present state of continental dr...</td>\n",
              "      <td>100.txt</td>\n",
              "      <td>[﻿A sea is a large body of salt water that is ...</td>\n",
              "      <td>[﻿ large body salt water surrounded whole part...</td>\n",
              "    </tr>\n",
              "    <tr>\n",
              "      <th>2</th>\n",
              "      <td>﻿Nazi Germany and the Third Reich (German: Dri...</td>\n",
              "      <td>[[nazi germany and the third reich (german: dr...</td>\n",
              "      <td>1.txt</td>\n",
              "      <td>[﻿Nazi Germany and the Third Reich German: Dri...</td>\n",
              "      <td>[﻿Nazi Germany Third Reich German Drittes Reic...</td>\n",
              "    </tr>\n",
              "    <tr>\n",
              "      <th>3</th>\n",
              "      <td>A rainbow is a meteorological phenomenon that ...</td>\n",
              "      <td>[[rainbows can be full circles; however, the a...</td>\n",
              "      <td>11.txt</td>\n",
              "      <td>[A rainbow is a meteorological phenomenon that...</td>\n",
              "      <td>[ rainbow meteorological phenomenon caused ref...</td>\n",
              "    </tr>\n",
              "    <tr>\n",
              "      <th>4</th>\n",
              "      <td>﻿Shiva  meaning \"The Auspicious One\", also kno...</td>\n",
              "      <td>[[he is the parabrahman within shaivism, one o...</td>\n",
              "      <td>26.txt</td>\n",
              "      <td>[﻿Shiva  meaning  The Auspicious One , also kn...</td>\n",
              "      <td>[﻿Shiva meaning The Auspicious One , known Mah...</td>\n",
              "    </tr>\n",
              "  </tbody>\n",
              "</table>\n",
              "</div>"
            ],
            "text/plain": [
              "                                               story  ...                                        clean_sents\n",
              "0  In the 17th century, Isaac Newton discovered t...  ...  [In 17th century , Isaac Newton discovered pri...\n",
              "1  ﻿A sea is a large body of salt water that is s...  ...  [﻿ large body salt water surrounded whole part...\n",
              "2  ﻿Nazi Germany and the Third Reich (German: Dri...  ...  [﻿Nazi Germany Third Reich German Drittes Reic...\n",
              "3  A rainbow is a meteorological phenomenon that ...  ...  [ rainbow meteorological phenomenon caused ref...\n",
              "4  ﻿Shiva  meaning \"The Auspicious One\", also kno...  ...  [﻿Shiva meaning The Auspicious One , known Mah...\n",
              "\n",
              "[5 rows x 5 columns]"
            ]
          },
          "metadata": {},
          "execution_count": 63
        }
      ]
    },
    {
      "cell_type": "code",
      "metadata": {
        "id": "X4OS2b96yAZO"
      },
      "source": [
        "# make cleaned paragraph for NER \n",
        "\n",
        "essg_df['clean_para'] = essg_df['clean_sents'].apply(lambda x: \" \".join(sent for sent in x))"
      ],
      "execution_count": null,
      "outputs": []
    },
    {
      "cell_type": "code",
      "metadata": {
        "id": "y3w-35LJx0h4"
      },
      "source": [
        "essg_df['entities'] = essg_df['clean_para'].apply(find_entities)  # NER "
      ],
      "execution_count": null,
      "outputs": []
    },
    {
      "cell_type": "code",
      "metadata": {
        "id": "7ko4DCelzBTR"
      },
      "source": [
        "essg_df['keywords'] = essg_df['clean_para'].apply(find_keywords)  # YAKE"
      ],
      "execution_count": null,
      "outputs": []
    },
    {
      "cell_type": "code",
      "metadata": {
        "id": "1P4VskYFzW10"
      },
      "source": [
        "# combine NER + YAKE keywords \n",
        "\n",
        "essg_df['combined_keywords'] = essg_df.apply((lambda x: list(set(x.keywords + x.entities))), axis = 1)  # duplicates handled"
      ],
      "execution_count": null,
      "outputs": []
    },
    {
      "cell_type": "code",
      "metadata": {
        "id": "PkUJpDHzwALN"
      },
      "source": [
        "# find clean_sent dict\n",
        "# key = index of sent(int), value = sentence(str)\n",
        "\n",
        "essg_df['clean_sent_dict'] = essg_df['clean_sents'].apply(find_clean_sent_dict)"
      ],
      "execution_count": null,
      "outputs": []
    },
    {
      "cell_type": "code",
      "metadata": {
        "id": "QiN4I3x9w7yy"
      },
      "source": [
        "# reverse this dictionary\n",
        "\n",
        "essg_df['reverse_cleanset'] = essg_df['clean_sent_dict'].apply(lambda x: {v:k for k,v in x.items()})"
      ],
      "execution_count": null,
      "outputs": []
    },
    {
      "cell_type": "code",
      "metadata": {
        "id": "lKULkBq5zobl"
      },
      "source": [
        "# create word sentence dictionaries\n",
        "\n",
        "essg_df['word_sentence_dictionary'] = essg_df.apply(lambda x: create_hypergraph(x.combined_keywords ,x.clean_sents, x.reverse_cleanset), axis = 1)"
      ],
      "execution_count": null,
      "outputs": []
    },
    {
      "cell_type": "code",
      "metadata": {
        "id": "d2osSLmEzrDo"
      },
      "source": [
        "# remove keywords with empty lists from the dictionary\n",
        "\n",
        "essg_df['word_sentence_dictionary'] = essg_df['word_sentence_dictionary'].apply(remove_keywords_with_empty_lists)"
      ],
      "execution_count": null,
      "outputs": []
    },
    {
      "cell_type": "code",
      "metadata": {
        "colab": {
          "base_uri": "https://localhost:8080/"
        },
        "id": "nkOjHO7kz3if",
        "outputId": "58e1ac92-b181-4280-b956-4f8e425d4fb3"
      },
      "source": [
        "# apply domination and return mapp dictionary \n",
        "\n",
        "# duc_df[['dominating_set', 'mapp_dict']] = duc_df.apply(lambda x: domination_row(x.word_sentence_dictionary), axis=1)\n",
        "\n",
        "essg_df['dominating_set'], essg_df['mapp_dict'] = zip(*essg_df['word_sentence_dictionary'].apply(domination_row))"
      ],
      "execution_count": null,
      "outputs": [
        {
          "output_type": "stream",
          "name": "stderr",
          "text": [
            "/usr/local/lib/python3.7/dist-packages/numpy/core/_asarray.py:83: VisibleDeprecationWarning: Creating an ndarray from ragged nested sequences (which is a list-or-tuple of lists-or-tuples-or ndarrays with different lengths or shapes) is deprecated. If you meant to do this, you must specify 'dtype=object' when creating the ndarray\n",
            "  return array(a, dtype, copy=False, order=order)\n"
          ]
        }
      ]
    },
    {
      "cell_type": "code",
      "metadata": {
        "id": "hvUrtMFq0CdS"
      },
      "source": [
        "# find reverse of mapp dict \n",
        "\n",
        "essg_df['reverse_mapp'] = essg_df['mapp_dict'].apply(lambda x: {v:k for k,v in x.items()})"
      ],
      "execution_count": null,
      "outputs": []
    },
    {
      "cell_type": "code",
      "metadata": {
        "id": "_iZBl8Hp0IKM"
      },
      "source": [
        "# find indices of sentences from the nodes in dominating list \n",
        "\n",
        "essg_df['summary_sentences_indices'] = essg_df.apply((lambda x: [x.reverse_mapp[i] for i in x.dominating_set]), axis=1)"
      ],
      "execution_count": null,
      "outputs": []
    },
    {
      "cell_type": "code",
      "metadata": {
        "id": "N2KSVIkv0M4Q"
      },
      "source": [
        "# find system summary \n",
        "\n",
        "essg_df['hypo_summary'] = essg_df.apply((lambda x: [x.original_sents[i] for i in x.summary_sentences_indices]), axis=1)"
      ],
      "execution_count": null,
      "outputs": []
    },
    {
      "cell_type": "code",
      "metadata": {
        "id": "_rtkUvAC0REX"
      },
      "source": [
        "# convert all hypothesized summaries into paragraphs \n",
        "\n",
        "essg_df['hypo_summary_para'] = essg_df['hypo_summary'].apply(lambda x: \" \".join([str(w) for w in x]))"
      ],
      "execution_count": null,
      "outputs": []
    },
    {
      "cell_type": "code",
      "metadata": {
        "colab": {
          "base_uri": "https://localhost:8080/"
        },
        "id": "FiNVzcja0gfp",
        "outputId": "1b194c33-00e1-415d-8ea2-affb22a2eceb"
      },
      "source": [
        "essg_df['dominating_set'].str.len().value_counts()"
      ],
      "execution_count": null,
      "outputs": [
        {
          "output_type": "execute_result",
          "data": {
            "text/plain": [
              "4     26\n",
              "5     19\n",
              "3     19\n",
              "6     11\n",
              "7      9\n",
              "2      6\n",
              "8      4\n",
              "10     2\n",
              "9      2\n",
              "12     1\n",
              "1      1\n",
              "Name: dominating_set, dtype: int64"
            ]
          },
          "metadata": {},
          "execution_count": 89
        }
      ]
    },
    {
      "cell_type": "code",
      "metadata": {
        "id": "_leTiu9y1IRh"
      },
      "source": [
        "# exception\n",
        "\n",
        "essg_df['summary'][80] = ['functional groups are also used to covalently link molecules such as fluorescent dyes, nanoparticles, proteins, dna, and other compounds of interest for a variety of applications such as sensing and basic chemical research., in addition, functional groups are used to covalently link functional molecules to the surface of chemical and biochemical devices such as microarrays and microelectromechanical systems., the functional group added can be subjected to ordinary synthesis methods to attach virtually any kind of organic compound onto the surface.']"
      ],
      "execution_count": null,
      "outputs": []
    },
    {
      "cell_type": "code",
      "metadata": {
        "id": "KgKJndni1QF3"
      },
      "source": [
        "# clean reference summaries\n",
        "\n",
        "essg_df['ref_summary_para'] = essg_df['summary'].apply(lambda x: x[0].replace('[',''))  # remove '[' start\n",
        "essg_df['ref_summary_para'] = essg_df['ref_summary_para'].apply(lambda x: x.replace(']',''))   # remove ']' end\n",
        "essg_df['ref_summary_para'] = essg_df['ref_summary_para'].apply(lambda x: x.replace('.,','.'))  # convert '.,' to '.'\n",
        "essg_df['ref_summary_para'] = essg_df['ref_summary_para'].apply(lambda x: re.sub('\\n', '', x))  # remove '\\n' and '\\'  newton\\'s \n",
        "# df1['ref_summary_para'] = df1['ref_summary_para'].apply(lambda x: x.replace(',', ''))  # remove commas \n",
        "essg_df['ref_summary_para'] = essg_df['ref_summary_para'].apply(lambda x: x.replace('(', ''))  # remove paranthesis\n",
        "essg_df['ref_summary_para'] = essg_df['ref_summary_para'].apply(lambda x: x.replace(')', ''))  # remove paranthesis \n",
        "\n",
        "# df1['ref_summary_para'] = df1['ref_summary_para'].apply(lambda x: x.replace('''\\''','')) # replace '\\' by ''"
      ],
      "execution_count": null,
      "outputs": []
    },
    {
      "cell_type": "code",
      "metadata": {
        "colab": {
          "base_uri": "https://localhost:8080/",
          "height": 70
        },
        "id": "dnAnHQbQ1bVc",
        "outputId": "3ed94f7d-adac-45de-d0af-2124849f593d"
      },
      "source": [
        "essg_df['hypo_summary_para'][0]"
      ],
      "execution_count": null,
      "outputs": [
        {
          "output_type": "execute_result",
          "data": {
            "application/vnd.google.colaboratory.intrinsic+json": {
              "type": "string"
            },
            "text/plain": [
              "'In the 18th century, Goethe wrote about optical spectra in his Theory of Colours. Young was the first to measure the wavelengths of different colors of light, in 1802.          However, the evidence indicates that what Newton meant by  indigo  and  blue  does not correspond to the modern meanings of those color words. The spectrum appears only when these edges are close enough to overlap.'"
            ]
          },
          "metadata": {},
          "execution_count": 94
        }
      ]
    },
    {
      "cell_type": "code",
      "metadata": {
        "colab": {
          "base_uri": "https://localhost:8080/",
          "height": 139
        },
        "id": "QIGPpzg51jTm",
        "outputId": "a59c3551-2770-4b83-a065-b87834340f02"
      },
      "source": [
        "essg_df['ref_summary_para'][0]"
      ],
      "execution_count": null,
      "outputs": [
        {
          "output_type": "execute_result",
          "data": {
            "application/vnd.google.colaboratory.intrinsic+json": {
              "type": "string"
            },
            "text/plain": [
              "'comparing newton\\'s observation of prismatic colors to a color image of the visible light spectrum shows that \"indigo\" corresponds to what is today called blue, whereas \"blue\" corresponds to cyan. in the 18th century, goethe wrote about optical spectra in his theory of colours. he chose seven colors out of a belief, derived from the ancient greek sophists, of there being a connection between the colors, the musical notes, the known objects in the solar system, and the days of the week. the human eye is relatively insensitive to indigo\\'s frequencies, and some otherwise-well-sighted people cannot distinguish indigo from blue and violet. in the early 19th century, the concept of the visible spectrum became more definite, as light outside the visible range was discovered and characterized by william herschel infrared and johann wilhelm ritter ultraviolet, thomas young, thomas johann seebeck, and others. young was the first to measure the wavelengths of different colors of light, in 1802, goethe used the word spectrum spektrum to designate a ghostly optical afterimage, as did schopenhauer in on vision and colors. he was the first to use the word spectrum latin for \"appearance\" or \"apparition\" in this sense in print in 1671 in describing his experiments in optics. newton hypothesized light to be made up of \"corpuscles\" particles of different colors, with the different colors of light moving at different speeds in transparent matter, red light moving more quickly than violet in glass.'"
            ]
          },
          "metadata": {},
          "execution_count": 95
        }
      ]
    },
    {
      "cell_type": "code",
      "metadata": {
        "id": "sQwgymYO1p5j"
      },
      "source": [
        "from rouge import Rouge\n",
        "\n",
        "rouge = Rouge()\n",
        "\n",
        "# axis = 1\n",
        "essg_df['rouge_values'] = essg_df.apply((lambda x: rouge.get_scores((x.hypo_summary_para).lower(), (x.ref_summary_para).lower() ,avg=True)), axis = 1)"
      ],
      "execution_count": null,
      "outputs": []
    },
    {
      "cell_type": "code",
      "metadata": {
        "colab": {
          "base_uri": "https://localhost:8080/"
        },
        "id": "h-P1jdYW125i",
        "outputId": "0bea1e43-cd87-4834-88e6-171bcdb12838"
      },
      "source": [
        "# avg of all rouge-1 f scores \n",
        "\n",
        "essg_df['rouge-1 f scores'] = essg_df['rouge_values'].apply(lambda x: x['rouge-1']['f'])\n",
        "essg_df['rouge-1 f scores'].mean()"
      ],
      "execution_count": null,
      "outputs": [
        {
          "output_type": "execute_result",
          "data": {
            "text/plain": [
              "0.5067681325548393"
            ]
          },
          "metadata": {},
          "execution_count": 97
        }
      ]
    },
    {
      "cell_type": "code",
      "metadata": {
        "colab": {
          "base_uri": "https://localhost:8080/",
          "height": 501
        },
        "id": "n6QlxgjN18z1",
        "outputId": "43f8a462-a25f-43c6-e921-6e31bd9299fa"
      },
      "source": [
        "import matplotlib.pyplot as plt\n",
        "plt.plot(essg_df['rouge-1 f scores'],  color =\"red\")"
      ],
      "execution_count": null,
      "outputs": [
        {
          "output_type": "execute_result",
          "data": {
            "text/plain": [
              "[<matplotlib.lines.Line2D at 0x7fcde4d94dd0>]"
            ]
          },
          "metadata": {},
          "execution_count": 98
        },
        {
          "output_type": "display_data",
          "data": {
            "image/png": "[encoded data removed]",
            "text/plain": [
              "<Figure size 576x576 with 1 Axes>"
            ]
          },
          "metadata": {
            "needs_background": "light"
          }
        }
      ]
    },
    {
      "cell_type": "code",
      "metadata": {
        "colab": {
          "base_uri": "https://localhost:8080/"
        },
        "id": "9ICfSnVg2DUG",
        "outputId": "48ddec23-37b0-4890-edce-aaae0a523f66"
      },
      "source": [
        "# rouge 2 f1 scores\n",
        "\n",
        "essg_df['rouge-2 f scores'] = essg_df['rouge_values'].apply(lambda x: x['rouge-2']['f'])\n",
        "essg_df['rouge-2 f scores'].mean()"
      ],
      "execution_count": null,
      "outputs": [
        {
          "output_type": "execute_result",
          "data": {
            "text/plain": [
              "0.3790613007030947"
            ]
          },
          "metadata": {},
          "execution_count": 99
        }
      ]
    },
    {
      "cell_type": "code",
      "metadata": {
        "colab": {
          "base_uri": "https://localhost:8080/"
        },
        "id": "f2LpJbHg2MRQ",
        "outputId": "dfba4e35-368d-4855-9020-5cd4bb7241f1"
      },
      "source": [
        "# rouge l f1 scores\n",
        "\n",
        "essg_df['rouge-l f scores'] = essg_df['rouge_values'].apply(lambda x: x['rouge-l']['f'])\n",
        "essg_df['rouge-l f scores'].mean()"
      ],
      "execution_count": null,
      "outputs": [
        {
          "output_type": "execute_result",
          "data": {
            "text/plain": [
              "0.4882207081734482"
            ]
          },
          "metadata": {},
          "execution_count": 100
        }
      ]
    },
    {
      "cell_type": "code",
      "metadata": {
        "id": "HG8FwBgyB0Lo"
      },
      "source": [
        "essg_df.to_pickle('essg_df_updated.pkl')"
      ],
      "execution_count": null,
      "outputs": []
    },
    {
      "cell_type": "code",
      "source": [
        "essg_df = pd.read_pickle('/content/gdrive/MyDrive/summarisation_dataset/essg_df_updated.pkl')"
      ],
      "metadata": {
        "id": "YygqymlWLiPg"
      },
      "execution_count": null,
      "outputs": []
    },
    {
      "cell_type": "code",
      "source": [
        "essg_df.info()"
      ],
      "metadata": {
        "colab": {
          "base_uri": "https://localhost:8080/"
        },
        "id": "vqsTFiuwMCw0",
        "outputId": "fa734754-bb7a-40bf-b19f-6c2cbc4388f2"
      },
      "execution_count": null,
      "outputs": [
        {
          "output_type": "stream",
          "name": "stdout",
          "text": [
            "<class 'pandas.core.frame.DataFrame'>\n",
            "RangeIndex: 100 entries, 0 to 99\n",
            "Data columns (total 23 columns):\n",
            " #   Column                     Non-Null Count  Dtype  \n",
            "---  ------                     --------------  -----  \n",
            " 0   story                      100 non-null    object \n",
            " 1   summary                    100 non-null    object \n",
            " 2   filename                   100 non-null    object \n",
            " 3   original_sents             100 non-null    object \n",
            " 4   clean_sents                100 non-null    object \n",
            " 5   clean_para                 100 non-null    object \n",
            " 6   entities                   100 non-null    object \n",
            " 7   keywords                   100 non-null    object \n",
            " 8   combined_keywords          100 non-null    object \n",
            " 9   clean_sent_dict            100 non-null    object \n",
            " 10  reverse_cleanset           100 non-null    object \n",
            " 11  word_sentence_dictionary   100 non-null    object \n",
            " 12  dominating_set             100 non-null    object \n",
            " 13  mapp_dict                  100 non-null    object \n",
            " 14  reverse_mapp               100 non-null    object \n",
            " 15  summary_sentences_indices  100 non-null    object \n",
            " 16  hypo_summary               100 non-null    object \n",
            " 17  hypo_summary_para          100 non-null    object \n",
            " 18  ref_summary_para           100 non-null    object \n",
            " 19  rouge_values               100 non-null    object \n",
            " 20  rouge-1 f scores           100 non-null    float64\n",
            " 21  rouge-2 f scores           100 non-null    float64\n",
            " 22  rouge-l f scores           100 non-null    float64\n",
            "dtypes: float64(3), object(20)\n",
            "memory usage: 18.1+ KB\n"
          ]
        }
      ]
    },
    {
      "cell_type": "markdown",
      "source": [
        "ROUGE 1 "
      ],
      "metadata": {
        "id": "ahYDaJTVLtkh"
      }
    },
    {
      "cell_type": "code",
      "source": [
        "# RECALL\n",
        "# rouge 1 r scores\n",
        "\n",
        "essg_df['rouge-1 r scores'] = essg_df['rouge_values'].apply(lambda x: x['rouge-1']['r'])\n",
        "\n",
        "print(\"Rouge-1 recall mean = \", end=\" \")\n",
        "print(essg_df['rouge-1 r scores'].mean())\n",
        "\n",
        "print(\"Rouge-1 recall min = \", end=\" \")\n",
        "print(essg_df['rouge-1 r scores'].min())\n",
        "\n",
        "print(\"Rouge-1 recall max = \", end=\" \")\n",
        "print(essg_df['rouge-1 r scores'].max())"
      ],
      "metadata": {
        "colab": {
          "base_uri": "https://localhost:8080/"
        },
        "id": "RJEoYEPLLu26",
        "outputId": "e0d81e55-2767-4d39-c2bd-025ed0f12b4b"
      },
      "execution_count": null,
      "outputs": [
        {
          "output_type": "stream",
          "name": "stdout",
          "text": [
            "Rouge-1 recall mean =  0.44363854448065054\n",
            "Rouge-1 recall min =  0.09900990099009901\n",
            "Rouge-1 recall max =  0.9615384615384616\n"
          ]
        }
      ]
    },
    {
      "cell_type": "code",
      "source": [
        "# PRECISION\n",
        "# rouge 1 p scores\n",
        "\n",
        "essg_df['rouge-1 p scores'] = essg_df['rouge_values'].apply(lambda x: x['rouge-1']['p'])\n",
        "\n",
        "print(\"Rouge-1 precisoin mean = \", end=\" \")\n",
        "print(essg_df['rouge-1 p scores'].mean())\n",
        "\n",
        "print(\"Rouge-1 precisoin min = \", end=\" \")\n",
        "print(essg_df['rouge-1 p scores'].min())\n",
        "\n",
        "print(\"Rouge-1 precisoin max = \", end=\" \")\n",
        "print(essg_df['rouge-1 p scores'].max())"
      ],
      "metadata": {
        "colab": {
          "base_uri": "https://localhost:8080/"
        },
        "id": "tDvF7EWYMRyI",
        "outputId": "3e5eb0ee-b8ec-4cc6-cbe2-10b787ccf1e9"
      },
      "execution_count": null,
      "outputs": [
        {
          "output_type": "stream",
          "name": "stdout",
          "text": [
            "Rouge-1 precisoin mean =  0.6266647202969287\n",
            "Rouge-1 precisoin min =  0.21739130434782608\n",
            "Rouge-1 precisoin max =  0.9833333333333333\n"
          ]
        }
      ]
    },
    {
      "cell_type": "code",
      "source": [
        "# f \n",
        "# rouge 1 f scores\n",
        "\n",
        "essg_df['rouge-1 f scores'] = essg_df['rouge_values'].apply(lambda x: x['rouge-1']['f'])\n",
        "\n",
        "print(\"Rouge-1 f mean = \", end=\" \")\n",
        "print(essg_df['rouge-1 f scores'].mean())\n",
        "\n",
        "print(\"Rouge-1 f min = \", end=\" \")\n",
        "print(essg_df['rouge-1 f scores'].min())\n",
        "\n",
        "print(\"Rouge-1 f max = \", end=\" \")\n",
        "print(essg_df['rouge-1 f scores'].max())"
      ],
      "metadata": {
        "colab": {
          "base_uri": "https://localhost:8080/"
        },
        "id": "Y3y2pTL1MiIZ",
        "outputId": "99ed4919-d180-4d80-d980-6c207612e35c"
      },
      "execution_count": null,
      "outputs": [
        {
          "output_type": "stream",
          "name": "stdout",
          "text": [
            "Rouge-1 f mean =  0.5067681325548393\n",
            "Rouge-1 f min =  0.13605441746864746\n",
            "Rouge-1 f max =  0.8507462636745379\n"
          ]
        }
      ]
    },
    {
      "cell_type": "markdown",
      "source": [
        "ROUGE 2"
      ],
      "metadata": {
        "id": "Vv1mhnobM3jy"
      }
    },
    {
      "cell_type": "code",
      "source": [
        "# RECALL\n",
        "# rouge 2 r scores\n",
        "\n",
        "essg_df['rouge-2 r scores'] = essg_df['rouge_values'].apply(lambda x: x['rouge-2']['r'])\n",
        "\n",
        "print(\"Rouge-2 recall mean = \", end=\" \")\n",
        "print(essg_df['rouge-2 r scores'].mean())\n",
        "\n",
        "print(\"Rouge-2 recall min = \", end=\" \")\n",
        "print(essg_df['rouge-2 r scores'].min())\n",
        "\n",
        "print(\"Rouge-2 recall max = \", end=\" \")\n",
        "print(essg_df['rouge-2 r scores'].max())"
      ],
      "metadata": {
        "colab": {
          "base_uri": "https://localhost:8080/"
        },
        "id": "22zMro1gM55W",
        "outputId": "7bfc951c-416c-4ddb-8067-225d02df3271"
      },
      "execution_count": null,
      "outputs": [
        {
          "output_type": "stream",
          "name": "stdout",
          "text": [
            "Rouge-2 recall mean =  0.3246169981647744\n",
            "Rouge-2 recall min =  0.0\n",
            "Rouge-2 recall max =  0.9428571428571428\n"
          ]
        }
      ]
    },
    {
      "cell_type": "code",
      "source": [
        "# PRECISION\n",
        "# rouge 2 p scores\n",
        "\n",
        "essg_df['rouge-2 p scores'] = essg_df['rouge_values'].apply(lambda x: x['rouge-2']['p'])\n",
        "\n",
        "print(\"Rouge-2 PRECISION mean = \", end=\" \")\n",
        "print(essg_df['rouge-2 p scores'].mean())\n",
        "\n",
        "print(\"Rouge-2 PRECISION min = \", end=\" \")\n",
        "print(essg_df['rouge-2 p scores'].min())\n",
        "\n",
        "print(\"Rouge-2 PRECISION max = \", end=\" \")\n",
        "print(essg_df['rouge-2 p scores'].max())"
      ],
      "metadata": {
        "colab": {
          "base_uri": "https://localhost:8080/"
        },
        "id": "xV2PpyQKNEK1",
        "outputId": "88a898fa-0845-4c07-d560-4461d0762eb1"
      },
      "execution_count": null,
      "outputs": [
        {
          "output_type": "stream",
          "name": "stdout",
          "text": [
            "Rouge-2 PRECISION mean =  0.495729857646681\n",
            "Rouge-2 PRECISION min =  0.0\n",
            "Rouge-2 PRECISION max =  0.9615384615384616\n"
          ]
        }
      ]
    },
    {
      "cell_type": "code",
      "source": [
        "# f score\n",
        "# rouge 2 f scores\n",
        "\n",
        "essg_df['rouge-2 f scores'] = essg_df['rouge_values'].apply(lambda x: x['rouge-2']['f'])\n",
        "\n",
        "print(\"Rouge-2 f mean = \", end=\" \")\n",
        "print(essg_df['rouge-2 f scores'].mean())\n",
        "\n",
        "print(\"Rouge-2 f min = \", end=\" \")\n",
        "print(essg_df['rouge-2 f scores'].min())\n",
        "\n",
        "print(\"Rouge-2 f max = \", end=\" \")\n",
        "print(essg_df['rouge-2 f scores'].max())"
      ],
      "metadata": {
        "colab": {
          "base_uri": "https://localhost:8080/"
        },
        "id": "qvFWsmIxNRxa",
        "outputId": "c5c2da05-5353-4a4f-addc-285d0bb4f75c"
      },
      "execution_count": null,
      "outputs": [
        {
          "output_type": "stream",
          "name": "stdout",
          "text": [
            "Rouge-2 f mean =  0.3790613007030947\n",
            "Rouge-2 f min =  0.0\n",
            "Rouge-2 f max =  0.8214285664462869\n"
          ]
        }
      ]
    },
    {
      "cell_type": "markdown",
      "source": [
        "ROUGE L"
      ],
      "metadata": {
        "id": "HA9U8FnMNmjq"
      }
    },
    {
      "cell_type": "code",
      "source": [
        "# RECALL\n",
        "# rouge L r scores\n",
        "\n",
        "essg_df['rouge-l r scores'] = essg_df['rouge_values'].apply(lambda x: x['rouge-l']['r'])\n",
        "\n",
        "print(\"Rouge-L recall mean = \", end=\" \")\n",
        "print(essg_df['rouge-l r scores'].mean())\n",
        "\n",
        "print(\"Rouge-L recall min = \", end=\" \")\n",
        "print(essg_df['rouge-l r scores'].min())\n",
        "\n",
        "print(\"Rouge-L recall max = \", end=\" \")\n",
        "print(essg_df['rouge-l r scores'].max())"
      ],
      "metadata": {
        "colab": {
          "base_uri": "https://localhost:8080/"
        },
        "id": "hFrnHYIKNiIE",
        "outputId": "3d99a26c-2b1e-484d-dd71-15d6762b6c15"
      },
      "execution_count": null,
      "outputs": [
        {
          "output_type": "stream",
          "name": "stdout",
          "text": [
            "Rouge-L recall mean =  0.4277089627008494\n",
            "Rouge-L recall min =  0.06930693069306931\n",
            "Rouge-L recall max =  0.9615384615384616\n"
          ]
        }
      ]
    },
    {
      "cell_type": "code",
      "source": [
        "# precesion\n",
        "# rouge L p scores\n",
        "\n",
        "essg_df['rouge-l p scores'] = essg_df['rouge_values'].apply(lambda x: x['rouge-l']['p'])\n",
        "\n",
        "print(\"Rouge-L precesion mean = \", end=\" \")\n",
        "print(essg_df['rouge-l p scores'].mean())\n",
        "\n",
        "print(\"Rouge-L precesion min = \", end=\" \")\n",
        "print(essg_df['rouge-l p scores'].min())\n",
        "\n",
        "print(\"Rouge-L precesion max = \", end=\" \")\n",
        "print(essg_df['rouge-l p scores'].max())"
      ],
      "metadata": {
        "colab": {
          "base_uri": "https://localhost:8080/"
        },
        "id": "9GAnj_8hN51m",
        "outputId": "c9c34c02-cdb1-4076-fa21-82f03becebb2"
      },
      "execution_count": null,
      "outputs": [
        {
          "output_type": "stream",
          "name": "stdout",
          "text": [
            "Rouge-L precesion mean =  0.6032901485610926\n",
            "Rouge-L precesion min =  0.14545454545454545\n",
            "Rouge-L precesion max =  0.9833333333333333\n"
          ]
        }
      ]
    },
    {
      "cell_type": "code",
      "source": [
        "# f\n",
        "# rouge L f scores\n",
        "\n",
        "essg_df['rouge-l f scores'] = essg_df['rouge_values'].apply(lambda x: x['rouge-l']['f'])\n",
        "\n",
        "print(\"Rouge-L f mean = \", end=\" \")\n",
        "print(essg_df['rouge-l f scores'].mean())\n",
        "\n",
        "print(\"Rouge-L f min = \", end=\" \")\n",
        "print(essg_df['rouge-l f scores'].min())\n",
        "\n",
        "print(\"Rouge-L f max = \", end=\" \")\n",
        "print(essg_df['rouge-l f scores'].max())"
      ],
      "metadata": {
        "colab": {
          "base_uri": "https://localhost:8080/"
        },
        "id": "IUrZsvOiPhnP",
        "outputId": "91fb44bc-164e-445f-b810-def731b5477b"
      },
      "execution_count": null,
      "outputs": [
        {
          "output_type": "stream",
          "name": "stdout",
          "text": [
            "Rouge-L f mean =  0.4882207081734482\n",
            "Rouge-L f min =  0.09523809093803527\n",
            "Rouge-L f max =  0.8507462636745379\n"
          ]
        }
      ]
    },
    {
      "cell_type": "markdown",
      "metadata": {
        "id": "HNs_sk462ZaF"
      },
      "source": [
        "# CNN "
      ]
    },
    {
      "cell_type": "code",
      "metadata": {
        "colab": {
          "base_uri": "https://localhost:8080/",
          "height": 695
        },
        "id": "Sw-U0CDR2U9J",
        "outputId": "eab14ba3-2c74-464d-f52b-fa53323f0be2"
      },
      "source": [
        "import pickle\n",
        "\n",
        "df_cnn = pd.read_pickle('/content/gdrive/MyDrive/summarisation_dataset/df_cnn_with_hypo_summaries.pkl')\n",
        "df_cnn.head()"
      ],
      "execution_count": null,
      "outputs": [
        {
          "output_type": "execute_result",
          "data": {
            "text/html": [
              "<div>\n",
              "<style scoped>\n",
              "    .dataframe tbody tr th:only-of-type {\n",
              "        vertical-align: middle;\n",
              "    }\n",
              "\n",
              "    .dataframe tbody tr th {\n",
              "        vertical-align: top;\n",
              "    }\n",
              "\n",
              "    .dataframe thead th {\n",
              "        text-align: right;\n",
              "    }\n",
              "</style>\n",
              "<table border=\"1\" class=\"dataframe\">\n",
              "  <thead>\n",
              "    <tr style=\"text-align: right;\">\n",
              "      <th></th>\n",
              "      <th>story</th>\n",
              "      <th>highlights</th>\n",
              "      <th>filename</th>\n",
              "      <th>original_sents</th>\n",
              "      <th>clean_sents</th>\n",
              "      <th>clean_para</th>\n",
              "      <th>entities</th>\n",
              "      <th>keywords</th>\n",
              "      <th>combined_keywords</th>\n",
              "      <th>word_sentence_dictionary</th>\n",
              "      <th>dominating_set</th>\n",
              "      <th>hypo_summary</th>\n",
              "      <th>hypo_summary_para</th>\n",
              "    </tr>\n",
              "  </thead>\n",
              "  <tbody>\n",
              "    <tr>\n",
              "      <th>0</th>\n",
              "      <td>MOSCOW, Russia (CNN) -- Russian space official...</td>\n",
              "      <td>[Soyuz capsule lands hundreds of kilometers of...</td>\n",
              "      <td>00aa8e3ba59f5fe71a096a5549f80faece10aa83.story</td>\n",
              "      <td>[MOSCOW, Russia CNN -- Russian space officials...</td>\n",
              "      <td>[MOSCOW , Russia CNN -- Russian space official...</td>\n",
              "      <td>MOSCOW , Russia CNN -- Russian space officials...</td>\n",
              "      <td>[Russian, Peggy Whitson Russian, Valery Lyndin...</td>\n",
              "      <td>[Earth, South, Soyuz, Russian, Korean, MOSCOW,...</td>\n",
              "      <td>[Russian, Malenchenko, Peggy Whitson Russian, ...</td>\n",
              "      <td>{'Russian': ['MOSCOW , Russia CNN -- Russian s...</td>\n",
              "      <td>[1, 7, 8, 9, 10]</td>\n",
              "      <td>[A South Korean bioengineer was one of three p...</td>\n",
              "      <td>A South Korean bioengineer was one of three pe...</td>\n",
              "    </tr>\n",
              "    <tr>\n",
              "      <th>1</th>\n",
              "      <td>BEIJING, China (CNN) -- The head of China's qu...</td>\n",
              "      <td>[Head of China's quality watchdog resigns over...</td>\n",
              "      <td>00ae31ff5ede1de6cd39eccf36bae935c882527b.story</td>\n",
              "      <td>[BEIJING, China CNN -- The head of China s qua...</td>\n",
              "      <td>[BEIJING , China CNN -- The head China quality...</td>\n",
              "      <td>BEIJING , China CNN -- The head China quality ...</td>\n",
              "      <td>[WHO, Shanghai, Wen Jiabao, Beijing, hours, AP...</td>\n",
              "      <td>[China, melamine, milk, Monday, dairy, Health,...</td>\n",
              "      <td>[products, WHO, Shanghai, Wen Jiabao, Beijing,...</td>\n",
              "      <td>{'products': ['China Health Ministry said Sund...</td>\n",
              "      <td>[0, 4, 6, 12, 16, 17, 19, 20, 23, 24, 25, 27, ...</td>\n",
              "      <td>[BEIJING, China CNN -- The head of China s qua...</td>\n",
              "      <td>BEIJING, China CNN -- The head of China s qual...</td>\n",
              "    </tr>\n",
              "    <tr>\n",
              "      <th>2</th>\n",
              "      <td>(CNN) -- Two of Turkey's main political partie...</td>\n",
              "      <td>[Turkey's ruling party agrees to lift ban on h...</td>\n",
              "      <td>00a570272e671a8fad94ffe0927a04c1bfc4110e.story</td>\n",
              "      <td>[CNN -- Two of Turkey s main political parties...</td>\n",
              "      <td>[CNN -- Two Turkey main political parties push...</td>\n",
              "      <td>CNN -- Two Turkey main political parties pushi...</td>\n",
              "      <td>[coming days, Tuesday, early 1980s, Deniz Bayk...</td>\n",
              "      <td>[Turkey, secular, higher, commission, educatio...</td>\n",
              "      <td>[coming days, education, concern, Tuesday, sec...</td>\n",
              "      <td>{'coming days': ['The constitutional commissio...</td>\n",
              "      <td>[0, 1, 4, 9, 10, 11, 13, 14, 15]</td>\n",
              "      <td>[CNN -- Two of Turkey s main political parties...</td>\n",
              "      <td>CNN -- Two of Turkey s main political parties ...</td>\n",
              "    </tr>\n",
              "    <tr>\n",
              "      <th>3</th>\n",
              "      <td>ATLANTA, Georgia (CNN)  -- Dressed head to toe...</td>\n",
              "      <td>[Designer Isaac Mizrahi moving from Target to ...</td>\n",
              "      <td>00a39c134080b6f215a81c15d46c3ac7cc7bdcf3.story</td>\n",
              "      <td>[ATLANTA, Georgia CNN  -- Dressed head to toe ...</td>\n",
              "      <td>[ATLANTA , Georgia CNN -- Dressed head toe bla...</td>\n",
              "      <td>ATLANTA , Georgia CNN -- Dressed head toe blac...</td>\n",
              "      <td>[Mizrahi, Georgia, every day, Isaac Mizrahi, d...</td>\n",
              "      <td>[Mizrahi, CNN, fashion, people, Isaac, ATLANTA...</td>\n",
              "      <td>[Mizrahi, Isaac, designer, people, Georgia, ev...</td>\n",
              "      <td>{'Isaac': ['ATLANTA , Georgia CNN -- Dressed h...</td>\n",
              "      <td>[1, 4, 8, 13, 15, 19, 23, 27, 28, 29, 30, 33, ...</td>\n",
              "      <td>[Isaac Mizrahi has earned four awards from the...</td>\n",
              "      <td>Isaac Mizrahi has earned four awards from the ...</td>\n",
              "    </tr>\n",
              "    <tr>\n",
              "      <th>4</th>\n",
              "      <td>Clarksburg, West Virginia (CNN)  -- North Cent...</td>\n",
              "      <td>[North Central West Virginia airport offers fr...</td>\n",
              "      <td>00aee24828cbceb3857579c59c9a85f381e358a5.story</td>\n",
              "      <td>[Clarksburg, West Virginia CNN  -- North Centr...</td>\n",
              "      <td>[Clarksburg , West Virginia CNN -- North Centr...</td>\n",
              "      <td>Clarksburg , West Virginia CNN -- North Centra...</td>\n",
              "      <td>[Altoona, Boeing, 15, 757, 20, 10,000, Christm...</td>\n",
              "      <td>[West, Virginia, Clarksburg, Coburn, Airport, ...</td>\n",
              "      <td>[Altoona, Boeing, 15, 757, 20, 10,000, Christm...</td>\n",
              "      <td>{'Altoona': ['In Altoona , Pennsylvania , resi...</td>\n",
              "      <td>[1, 2, 3, 5, 7, 16, 20]</td>\n",
              "      <td>[That s not surprising, considering that fewer...</td>\n",
              "      <td>That s not surprising, considering that fewer ...</td>\n",
              "    </tr>\n",
              "  </tbody>\n",
              "</table>\n",
              "</div>"
            ],
            "text/plain": [
              "                                               story  ...                                  hypo_summary_para\n",
              "0  MOSCOW, Russia (CNN) -- Russian space official...  ...  A South Korean bioengineer was one of three pe...\n",
              "1  BEIJING, China (CNN) -- The head of China's qu...  ...  BEIJING, China CNN -- The head of China s qual...\n",
              "2  (CNN) -- Two of Turkey's main political partie...  ...  CNN -- Two of Turkey s main political parties ...\n",
              "3  ATLANTA, Georgia (CNN)  -- Dressed head to toe...  ...  Isaac Mizrahi has earned four awards from the ...\n",
              "4  Clarksburg, West Virginia (CNN)  -- North Cent...  ...  That s not surprising, considering that fewer ...\n",
              "\n",
              "[5 rows x 13 columns]"
            ]
          },
          "metadata": {},
          "execution_count": 77
        }
      ]
    },
    {
      "cell_type": "code",
      "metadata": {
        "colab": {
          "base_uri": "https://localhost:8080/"
        },
        "id": "4IdrSR2B7oxC",
        "outputId": "b11133e5-eef9-4d70-9899-212812fd238f"
      },
      "source": [
        "df_cnn.info()"
      ],
      "execution_count": null,
      "outputs": [
        {
          "output_type": "stream",
          "name": "stdout",
          "text": [
            "<class 'pandas.core.frame.DataFrame'>\n",
            "RangeIndex: 25 entries, 0 to 24\n",
            "Data columns (total 13 columns):\n",
            " #   Column                    Non-Null Count  Dtype \n",
            "---  ------                    --------------  ----- \n",
            " 0   story                     25 non-null     object\n",
            " 1   highlights                25 non-null     object\n",
            " 2   filename                  25 non-null     object\n",
            " 3   original_sents            25 non-null     object\n",
            " 4   clean_sents               25 non-null     object\n",
            " 5   clean_para                25 non-null     object\n",
            " 6   entities                  25 non-null     object\n",
            " 7   keywords                  25 non-null     object\n",
            " 8   combined_keywords         25 non-null     object\n",
            " 9   word_sentence_dictionary  25 non-null     object\n",
            " 10  dominating_set            25 non-null     object\n",
            " 11  hypo_summary              25 non-null     object\n",
            " 12  hypo_summary_para         25 non-null     object\n",
            "dtypes: object(13)\n",
            "memory usage: 2.7+ KB\n"
          ]
        }
      ]
    },
    {
      "cell_type": "code",
      "metadata": {
        "id": "i29lAr403iLr"
      },
      "source": [
        "# drop columns\n",
        "\n",
        "df_cnn = df_cnn.drop(['word_sentence_dictionary', 'dominating_set', 'hypo_summary', 'hypo_summary_para'], axis = 1) "
      ],
      "execution_count": null,
      "outputs": []
    },
    {
      "cell_type": "code",
      "metadata": {
        "id": "WBcVnpzm74zj"
      },
      "source": [
        "# find clean_sent dict\n",
        "# key = index of sent(int), value = sentence(str)\n",
        "\n",
        "df_cnn['clean_sent_dict'] = df_cnn['clean_sents'].apply(find_clean_sent_dict)"
      ],
      "execution_count": null,
      "outputs": []
    },
    {
      "cell_type": "code",
      "metadata": {
        "id": "gYLWV93d86QT"
      },
      "source": [
        "# reverse this dictionary\n",
        "\n",
        "df_cnn['reverse_cleanset'] = df_cnn['clean_sent_dict'].apply(lambda x: {v:k for k,v in x.items()})"
      ],
      "execution_count": null,
      "outputs": []
    },
    {
      "cell_type": "code",
      "metadata": {
        "id": "gJ5uthdB8-E3"
      },
      "source": [
        "# create word sentence dictionaries\n",
        "\n",
        "df_cnn['word_sentence_dictionary'] = df_cnn.apply(lambda x: create_hypergraph(x.combined_keywords ,x.clean_sents, x.reverse_cleanset), axis = 1)"
      ],
      "execution_count": null,
      "outputs": []
    },
    {
      "cell_type": "code",
      "metadata": {
        "id": "uLYEyUMI9C0Z"
      },
      "source": [
        "# remove high frequency words from the dictionary \n",
        "\n",
        "df_cnn['word_sentence_dictionary'] = df_cnn['word_sentence_dictionary'].apply(remove_high_freq_edges)"
      ],
      "execution_count": null,
      "outputs": []
    },
    {
      "cell_type": "code",
      "metadata": {
        "id": "Rq16QOX79HzI"
      },
      "source": [
        "# remove keywords with empty lists from the dictionary\n",
        "\n",
        "df_cnn['word_sentence_dictionary'] = df_cnn['word_sentence_dictionary'].apply(remove_keywords_with_empty_lists)"
      ],
      "execution_count": null,
      "outputs": []
    },
    {
      "cell_type": "code",
      "metadata": {
        "colab": {
          "base_uri": "https://localhost:8080/"
        },
        "id": "RcOz4W0d9LUP",
        "outputId": "a804cdf2-3e61-43fb-bd03-feda94af1c46"
      },
      "source": [
        "# apply domination and return mapp dictionary \n",
        "\n",
        "# duc_df[['dominating_set', 'mapp_dict']] = duc_df.apply(lambda x: domination_row(x.word_sentence_dictionary), axis=1)\n",
        "\n",
        "df_cnn['dominating_set'], df_cnn['mapp_dict'] = zip(*df_cnn['word_sentence_dictionary'].apply(domination_row))"
      ],
      "execution_count": null,
      "outputs": [
        {
          "output_type": "stream",
          "name": "stderr",
          "text": [
            "/usr/local/lib/python3.7/dist-packages/numpy/core/_asarray.py:83: VisibleDeprecationWarning: Creating an ndarray from ragged nested sequences (which is a list-or-tuple of lists-or-tuples-or ndarrays with different lengths or shapes) is deprecated. If you meant to do this, you must specify 'dtype=object' when creating the ndarray\n",
            "  return array(a, dtype, copy=False, order=order)\n"
          ]
        }
      ]
    },
    {
      "cell_type": "code",
      "metadata": {
        "id": "AL-SkoKY9Qa2"
      },
      "source": [
        "# find reverse of mapp dict \n",
        "\n",
        "df_cnn['reverse_mapp'] = df_cnn['mapp_dict'].apply(lambda x: {v:k for k,v in x.items()})"
      ],
      "execution_count": null,
      "outputs": []
    },
    {
      "cell_type": "code",
      "metadata": {
        "id": "xPZujIFg9V4b"
      },
      "source": [
        "# find indices of sentences from the nodes in dominating list \n",
        "\n",
        "df_cnn['summary_sentences_indices'] = df_cnn.apply((lambda x: [x.reverse_mapp[i] for i in x.dominating_set]), axis=1)"
      ],
      "execution_count": null,
      "outputs": []
    },
    {
      "cell_type": "code",
      "metadata": {
        "id": "B52PsBnV9ZWt"
      },
      "source": [
        "# find system summary \n",
        "\n",
        "df_cnn['hypo_summary'] = df_cnn.apply((lambda x: [x.original_sents[i] for i in x.summary_sentences_indices]), axis=1)"
      ],
      "execution_count": null,
      "outputs": []
    },
    {
      "cell_type": "code",
      "metadata": {
        "id": "VpIjvoXi9dDE"
      },
      "source": [
        "# convert all hypothesized summaries into paragraphs \n",
        "\n",
        "df_cnn['hypo_summary_para'] = df_cnn['hypo_summary'].apply(lambda x: \" \".join([str(w) for w in x]))"
      ],
      "execution_count": null,
      "outputs": []
    },
    {
      "cell_type": "code",
      "metadata": {
        "colab": {
          "base_uri": "https://localhost:8080/",
          "height": 87
        },
        "id": "g4-irS2C_OFH",
        "outputId": "0be02444-dc61-4fae-a27d-a5cd69012354"
      },
      "source": [
        "df_cnn['hypo_summary_para'][0]"
      ],
      "execution_count": null,
      "outputs": [
        {
          "output_type": "execute_result",
          "data": {
            "application/vnd.google.colaboratory.intrinsic+json": {
              "type": "string"
            },
            "text/plain": [
              "'Mission Control spokesman Valery Lyndin said the condition of the crew -- South Korean bioengineer Yi So-yeon, American astronaut Peggy Whitson and Russian flight engineer Yuri Malenchenko -- was satisfactory, though the three had been subjected to severe G-forces during the re-entry. In October, the Soyuz capsule landed 70 kilometers from the planned area because of a damaged control cable. E-mail to a friend   This is not the first time a spacecraft veered from its planned trajectory during landing. Interfax reported that the spacecraft s landing was rough.'"
            ]
          },
          "metadata": {},
          "execution_count": 90
        }
      ]
    },
    {
      "cell_type": "code",
      "metadata": {
        "colab": {
          "base_uri": "https://localhost:8080/"
        },
        "id": "EdWcBgp09hrB",
        "outputId": "b077757f-0a09-4dd7-d2db-e69859a3d2f7"
      },
      "source": [
        "df_cnn.info()"
      ],
      "execution_count": null,
      "outputs": [
        {
          "output_type": "stream",
          "name": "stdout",
          "text": [
            "<class 'pandas.core.frame.DataFrame'>\n",
            "RangeIndex: 25 entries, 0 to 24\n",
            "Data columns (total 18 columns):\n",
            " #   Column                     Non-Null Count  Dtype \n",
            "---  ------                     --------------  ----- \n",
            " 0   story                      25 non-null     object\n",
            " 1   highlights                 25 non-null     object\n",
            " 2   filename                   25 non-null     object\n",
            " 3   original_sents             25 non-null     object\n",
            " 4   clean_sents                25 non-null     object\n",
            " 5   clean_para                 25 non-null     object\n",
            " 6   entities                   25 non-null     object\n",
            " 7   keywords                   25 non-null     object\n",
            " 8   combined_keywords          25 non-null     object\n",
            " 9   clean_sent_dict            25 non-null     object\n",
            " 10  reverse_cleanset           25 non-null     object\n",
            " 11  word_sentence_dictionary   25 non-null     object\n",
            " 12  dominating_set             25 non-null     object\n",
            " 13  mapp_dict                  25 non-null     object\n",
            " 14  reverse_mapp               25 non-null     object\n",
            " 15  summary_sentences_indices  25 non-null     object\n",
            " 16  hypo_summary               25 non-null     object\n",
            " 17  hypo_summary_para          25 non-null     object\n",
            "dtypes: object(18)\n",
            "memory usage: 3.6+ KB\n"
          ]
        }
      ]
    },
    {
      "cell_type": "code",
      "metadata": {
        "id": "bsuTsQuQ9p1d"
      },
      "source": [
        "df_cnn['ref_summary_para'] = df_cnn['highlights'].apply(lambda x: \". \".join([str(w) for w in x]))"
      ],
      "execution_count": null,
      "outputs": []
    },
    {
      "cell_type": "code",
      "metadata": {
        "colab": {
          "base_uri": "https://localhost:8080/",
          "height": 53
        },
        "id": "mo-DoyKAAaht",
        "outputId": "f572a96f-f0ea-48c2-df9c-c66b63649151"
      },
      "source": [
        "df_cnn['ref_summary_para'][0]"
      ],
      "execution_count": null,
      "outputs": [
        {
          "output_type": "execute_result",
          "data": {
            "application/vnd.google.colaboratory.intrinsic+json": {
              "type": "string"
            },
            "text/plain": [
              "\"Soyuz capsule lands hundreds of kilometers off-target. Capsule was carrying South Korea's first astronaut. Landing is second time Soyuz capsule has gone awry\""
            ]
          },
          "metadata": {},
          "execution_count": 93
        }
      ]
    },
    {
      "cell_type": "code",
      "metadata": {
        "colab": {
          "base_uri": "https://localhost:8080/"
        },
        "id": "VM6jzcW4Ach5",
        "outputId": "801613db-21b8-4393-c755-3302742e0116"
      },
      "source": [
        "df_cnn['highlights'][0]"
      ],
      "execution_count": null,
      "outputs": [
        {
          "output_type": "execute_result",
          "data": {
            "text/plain": [
              "['Soyuz capsule lands hundreds of kilometers off-target',\n",
              " \"Capsule was carrying South Korea's first astronaut\",\n",
              " 'Landing is second time Soyuz capsule has gone awry']"
            ]
          },
          "metadata": {},
          "execution_count": 94
        }
      ]
    },
    {
      "cell_type": "code",
      "metadata": {
        "id": "gWfKt942Af_u"
      },
      "source": [
        "# clean reference summaries\n",
        "\n",
        "df_cnn['ref_summary_para'] = df_cnn['ref_summary_para'].apply(lambda x: x.replace('[',''))  # remove '[' start\n",
        "df_cnn['ref_summary_para'] = df_cnn['ref_summary_para'].apply(lambda x: x.replace(']',''))   # remove ']' end\n",
        "df_cnn['ref_summary_para'] = df_cnn['ref_summary_para'].apply(lambda x: x.replace('.,','.'))  # convert '.,' to '.'\n",
        "df_cnn['ref_summary_para'] = df_cnn['ref_summary_para'].apply(lambda x: re.sub('\\n', '', x))  # remove '\\n' and '\\'  newton\\'s \n",
        "# df1['ref_summary_para'] = df1['ref_summary_para'].apply(lambda x: x.replace(',', ''))  # remove commas \n",
        "df_cnn['ref_summary_para'] = df_cnn['ref_summary_para'].apply(lambda x: x.replace('(', ''))  # remove paranthesis\n",
        "df_cnn['ref_summary_para'] = df_cnn['ref_summary_para'].apply(lambda x: x.replace(')', ''))  # remove paranthesis \n",
        "\n",
        "# df1['ref_summary_para'] = df1['ref_summary_para'].apply(lambda x: x.replace('''\\''','')) # replace '\\' by ''"
      ],
      "execution_count": null,
      "outputs": []
    },
    {
      "cell_type": "code",
      "metadata": {
        "id": "PPKsqe2VNfXG",
        "colab": {
          "base_uri": "https://localhost:8080/",
          "height": 130
        },
        "outputId": "c2c8bffa-6981-42a7-bef4-66b8a552955d"
      },
      "source": [
        "df_cnn['ref_summary_para'][]"
      ],
      "execution_count": null,
      "outputs": [
        {
          "output_type": "error",
          "ename": "SyntaxError",
          "evalue": "ignored",
          "traceback": [
            "\u001b[0;36m  File \u001b[0;32m\"<ipython-input-96-3a559313a795>\"\u001b[0;36m, line \u001b[0;32m1\u001b[0m\n\u001b[0;31m    df_cnn['ref_summary_para'][]\u001b[0m\n\u001b[0m                               ^\u001b[0m\n\u001b[0;31mSyntaxError\u001b[0m\u001b[0;31m:\u001b[0m invalid syntax\n"
          ]
        }
      ]
    },
    {
      "cell_type": "code",
      "metadata": {
        "id": "EMiEjv_rAz6-"
      },
      "source": [
        "from rouge import Rouge\n",
        "\n",
        "rouge = Rouge()\n",
        "\n",
        "# axis = 1\n",
        "df_cnn['rouge_values'] = df_cnn.apply((lambda x: rouge.get_scores((x.hypo_summary_para).lower(), (x.ref_summary_para).lower() ,avg=True)), axis = 1)"
      ],
      "execution_count": null,
      "outputs": []
    },
    {
      "cell_type": "code",
      "source": [
        "df_cnn.to_pickle(\"df_cnn_final.pkl\")"
      ],
      "metadata": {
        "id": "YnxuNE3JYkUO"
      },
      "execution_count": null,
      "outputs": []
    },
    {
      "cell_type": "markdown",
      "source": [
        "ROUGE 1"
      ],
      "metadata": {
        "id": "e2Q8ziHJZXUP"
      }
    },
    {
      "cell_type": "code",
      "source": [
        "# RECALL\n",
        "# rouge 1 r scores\n",
        "\n",
        "df_cnn['rouge-1 r scores'] = df_cnn['rouge_values'].apply(lambda x: x['rouge-1']['r'])\n",
        "\n",
        "print(\"Rouge-1 recall mean = \", end=\" \")\n",
        "print(df_cnn['rouge-1 r scores'].mean())\n",
        "\n",
        "print(\"Rouge-1 recall min = \", end=\" \")\n",
        "print(df_cnn['rouge-1 r scores'].min())\n",
        "\n",
        "print(\"Rouge-1 recall max = \", end=\" \")\n",
        "print(df_cnn['rouge-1 r scores'].max())"
      ],
      "metadata": {
        "colab": {
          "base_uri": "https://localhost:8080/"
        },
        "id": "3q71GBYYZWIz",
        "outputId": "b9867b36-c82b-4d4a-fe1b-9c351605922c"
      },
      "execution_count": null,
      "outputs": [
        {
          "output_type": "stream",
          "name": "stdout",
          "text": [
            "Rouge-1 recall mean =  0.49154456187276657\n",
            "Rouge-1 recall min =  0.22857142857142856\n",
            "Rouge-1 recall max =  0.717391304347826\n"
          ]
        }
      ]
    },
    {
      "cell_type": "code",
      "source": [
        "# PRECISION\n",
        "# rouge 1 p scores\n",
        "\n",
        "df_cnn['rouge-1 p scores'] = df_cnn['rouge_values'].apply(lambda x: x['rouge-1']['p'])\n",
        "\n",
        "print(\"Rouge-1 precisoin mean = \", end=\" \")\n",
        "print(df_cnn['rouge-1 p scores'].mean())\n",
        "\n",
        "print(\"Rouge-1 precisoin min = \", end=\" \")\n",
        "print(df_cnn['rouge-1 p scores'].min())\n",
        "\n",
        "print(\"Rouge-1 precisoin max = \", end=\" \")\n",
        "print(df_cnn['rouge-1 p scores'].max())"
      ],
      "metadata": {
        "colab": {
          "base_uri": "https://localhost:8080/"
        },
        "id": "RviL0j-_Zpd1",
        "outputId": "e54d9ce2-5568-485f-ad57-6511e22c39aa"
      },
      "execution_count": null,
      "outputs": [
        {
          "output_type": "stream",
          "name": "stdout",
          "text": [
            "Rouge-1 precisoin mean =  0.1384053479310473\n",
            "Rouge-1 precisoin min =  0.05084745762711865\n",
            "Rouge-1 precisoin max =  0.30973451327433627\n"
          ]
        }
      ]
    },
    {
      "cell_type": "code",
      "source": [
        "# f \n",
        "# rouge 1 f scores\n",
        "\n",
        "df_cnn['rouge-1 f scores'] = df_cnn['rouge_values'].apply(lambda x: x['rouge-1']['f'])\n",
        "\n",
        "print(\"Rouge-1 f mean = \", end=\" \")\n",
        "print(df_cnn['rouge-1 f scores'].mean())\n",
        "\n",
        "print(\"Rouge-1 f min = \", end=\" \")\n",
        "print(df_cnn['rouge-1 f scores'].min())\n",
        "\n",
        "print(\"Rouge-1 f max = \", end=\" \")\n",
        "print(df_cnn['rouge-1 f scores'].max())"
      ],
      "metadata": {
        "colab": {
          "base_uri": "https://localhost:8080/"
        },
        "id": "rLXkqjk2Z_TD",
        "outputId": "403aeaea-5ade-47a6-a24b-66bb9b669cc0"
      },
      "execution_count": null,
      "outputs": [
        {
          "output_type": "stream",
          "name": "stdout",
          "text": [
            "Rouge-1 f mean =  0.2081373857261287\n",
            "Rouge-1 f min =  0.08866994850542363\n",
            "Rouge-1 f max =  0.4294478485076593\n"
          ]
        }
      ]
    },
    {
      "cell_type": "markdown",
      "source": [
        "ROUGE 2"
      ],
      "metadata": {
        "id": "gjDFA661aGmN"
      }
    },
    {
      "cell_type": "code",
      "source": [
        "# RECALL\n",
        "# rouge 2 r scores\n",
        "\n",
        "df_cnn['rouge-2 r scores'] = df_cnn['rouge_values'].apply(lambda x: x['rouge-2']['r'])\n",
        "\n",
        "print(\"Rouge-2 recall mean = \", end=\" \")\n",
        "print(df_cnn['rouge-2 r scores'].mean())\n",
        "\n",
        "print(\"Rouge-2 recall min = \", end=\" \")\n",
        "print(df_cnn['rouge-2 r scores'].min())\n",
        "\n",
        "print(\"Rouge-2 recall max = \", end=\" \")\n",
        "print(df_cnn['rouge-2 r scores'].max())"
      ],
      "metadata": {
        "colab": {
          "base_uri": "https://localhost:8080/"
        },
        "id": "lIN9hi7DaGRL",
        "outputId": "f128a7e6-9dea-4455-b036-cf773f2fb558"
      },
      "execution_count": null,
      "outputs": [
        {
          "output_type": "stream",
          "name": "stdout",
          "text": [
            "Rouge-2 recall mean =  0.13220644417163607\n",
            "Rouge-2 recall min =  0.025\n",
            "Rouge-2 recall max =  0.3448275862068966\n"
          ]
        }
      ]
    },
    {
      "cell_type": "code",
      "source": [
        "# PRECISION\n",
        "# rouge 2 p scores\n",
        "\n",
        "df_cnn['rouge-2 p scores'] = df_cnn['rouge_values'].apply(lambda x: x['rouge-2']['p'])\n",
        "\n",
        "print(\"Rouge-2 PRECISION mean = \", end=\" \")\n",
        "print(df_cnn['rouge-2 p scores'].mean())\n",
        "\n",
        "print(\"Rouge-2 PRECISION min = \", end=\" \")\n",
        "print(df_cnn['rouge-2 p scores'].min())\n",
        "\n",
        "print(\"Rouge-2 PRECISION max = \", end=\" \")\n",
        "print(df_cnn['rouge-2 p scores'].max())"
      ],
      "metadata": {
        "colab": {
          "base_uri": "https://localhost:8080/"
        },
        "id": "KBi5RpBPadYl",
        "outputId": "ad7c5aca-44f0-41b2-aa0b-82ad11dcb9f7"
      },
      "execution_count": null,
      "outputs": [
        {
          "output_type": "stream",
          "name": "stdout",
          "text": [
            "Rouge-2 PRECISION mean =  0.03190798107342237\n",
            "Rouge-2 PRECISION min =  0.003067484662576687\n",
            "Rouge-2 PRECISION max =  0.15384615384615385\n"
          ]
        }
      ]
    },
    {
      "cell_type": "code",
      "source": [
        "# f score\n",
        "# rouge 2 f scores\n",
        "\n",
        "df_cnn['rouge-2 f scores'] = df_cnn['rouge_values'].apply(lambda x: x['rouge-2']['f'])\n",
        "\n",
        "print(\"Rouge-2 f mean = \", end=\" \")\n",
        "print(df_cnn['rouge-2 f scores'].mean())\n",
        "\n",
        "print(\"Rouge-2 f min = \", end=\" \")\n",
        "print(df_cnn['rouge-2 f scores'].min())\n",
        "\n",
        "print(\"Rouge-2 f max = \", end=\" \")\n",
        "print(df_cnn['rouge-2 f scores'].max())"
      ],
      "metadata": {
        "colab": {
          "base_uri": "https://localhost:8080/"
        },
        "id": "fDQytFleakPh",
        "outputId": "cf12361d-dd48-484f-cd9c-fa613149277d"
      },
      "execution_count": null,
      "outputs": [
        {
          "output_type": "stream",
          "name": "stdout",
          "text": [
            "Rouge-2 f mean =  0.04918955218012365\n",
            "Rouge-2 f min =  0.005464478927409693\n",
            "Rouge-2 f max =  0.21276595318017213\n"
          ]
        }
      ]
    },
    {
      "cell_type": "markdown",
      "source": [
        "ROUGE L"
      ],
      "metadata": {
        "id": "vjIiHT_wa00L"
      }
    },
    {
      "cell_type": "code",
      "source": [
        "# RECALL\n",
        "# rouge L r scores\n",
        "\n",
        "df_cnn['rouge-l r scores'] = df_cnn['rouge_values'].apply(lambda x: x['rouge-l']['r'])\n",
        "\n",
        "print(\"Rouge-L recall mean = \", end=\" \")\n",
        "print(df_cnn['rouge-l r scores'].mean())\n",
        "\n",
        "print(\"Rouge-L recall min = \", end=\" \")\n",
        "print(df_cnn['rouge-l r scores'].min())\n",
        "\n",
        "print(\"Rouge-L recall max = \", end=\" \")\n",
        "print(df_cnn['rouge-l r scores'].max())"
      ],
      "metadata": {
        "colab": {
          "base_uri": "https://localhost:8080/"
        },
        "id": "j4IrdhL-a2bU",
        "outputId": "b4b67245-7992-4d97-9ec0-7510f0615a1f"
      },
      "execution_count": null,
      "outputs": [
        {
          "output_type": "stream",
          "name": "stdout",
          "text": [
            "Rouge-L recall mean =  0.4487952035609329\n",
            "Rouge-L recall min =  0.2\n",
            "Rouge-L recall max =  0.6666666666666666\n"
          ]
        }
      ]
    },
    {
      "cell_type": "code",
      "source": [
        "# precesion\n",
        "# rouge L p scores\n",
        "\n",
        "df_cnn['rouge-l p scores'] = df_cnn['rouge_values'].apply(lambda x: x['rouge-l']['p'])\n",
        "\n",
        "print(\"Rouge-L precesion mean = \", end=\" \")\n",
        "print(df_cnn['rouge-l p scores'].mean())\n",
        "\n",
        "print(\"Rouge-L precesion min = \", end=\" \")\n",
        "print(df_cnn['rouge-l p scores'].min())\n",
        "\n",
        "print(\"Rouge-L precesion max = \", end=\" \")\n",
        "print(df_cnn['rouge-l p scores'].max())"
      ],
      "metadata": {
        "colab": {
          "base_uri": "https://localhost:8080/"
        },
        "id": "CLc_2R5wbDdu",
        "outputId": "14edc8c7-b008-4a47-d276-fe45f5c7313e"
      },
      "execution_count": null,
      "outputs": [
        {
          "output_type": "stream",
          "name": "stdout",
          "text": [
            "Rouge-L precesion mean =  0.12487876810172935\n",
            "Rouge-L precesion min =  0.03954802259887006\n",
            "Rouge-L precesion max =  0.2920353982300885\n"
          ]
        }
      ]
    },
    {
      "cell_type": "code",
      "source": [
        "# f\n",
        "# rouge L f scores\n",
        "\n",
        "df_cnn['rouge-l f scores'] = df_cnn['rouge_values'].apply(lambda x: x['rouge-l']['f'])\n",
        "\n",
        "print(\"Rouge-L f mean = \", end=\" \")\n",
        "print(df_cnn['rouge-l f scores'].mean())\n",
        "\n",
        "print(\"Rouge-L f min = \", end=\" \")\n",
        "print(df_cnn['rouge-l f scores'].min())\n",
        "\n",
        "print(\"Rouge-L f max = \", end=\" \")\n",
        "print(df_cnn['rouge-l f scores'].max())"
      ],
      "metadata": {
        "colab": {
          "base_uri": "https://localhost:8080/"
        },
        "id": "Yggkk0fobVSE",
        "outputId": "f1536af3-6c24-4e90-d128-22812d28eb50"
      },
      "execution_count": null,
      "outputs": [
        {
          "output_type": "stream",
          "name": "stdout",
          "text": [
            "Rouge-L f mean =  0.18853801603887238\n",
            "Rouge-L f min =  0.0689655150078867\n",
            "Rouge-L f max =  0.40490797120704586\n"
          ]
        }
      ]
    },
    {
      "cell_type": "code",
      "metadata": {
        "colab": {
          "base_uri": "https://localhost:8080/"
        },
        "id": "9tPmNspsA6x5",
        "outputId": "f0fb5b93-5a2a-44ae-f642-ddf5c729c38b"
      },
      "source": [
        "# avg of all rouge-1 f scores \n",
        "\n",
        "df_cnn['rouge-1 f scores'] = df_cnn['rouge_values'].apply(lambda x: x['rouge-1']['f'])\n",
        "df_cnn['rouge-1 f scores'].mean()"
      ],
      "execution_count": null,
      "outputs": [
        {
          "output_type": "execute_result",
          "data": {
            "text/plain": [
              "0.2081373857261287"
            ]
          },
          "metadata": {},
          "execution_count": 139
        }
      ]
    },
    {
      "cell_type": "code",
      "metadata": {
        "colab": {
          "base_uri": "https://localhost:8080/"
        },
        "id": "G_8AMGEvBCdr",
        "outputId": "938170a7-448c-49e9-c467-496522ffa254"
      },
      "source": [
        "# avg of all rouge-2 f scores \n",
        "\n",
        "df_cnn['rouge-2 f scores'] = df_cnn['rouge_values'].apply(lambda x: x['rouge-2']['f'])\n",
        "df_cnn['rouge-2 f scores'].mean()"
      ],
      "execution_count": null,
      "outputs": [
        {
          "output_type": "execute_result",
          "data": {
            "text/plain": [
              "0.04918955218012365"
            ]
          },
          "metadata": {},
          "execution_count": 140
        }
      ]
    },
    {
      "cell_type": "code",
      "metadata": {
        "colab": {
          "base_uri": "https://localhost:8080/"
        },
        "id": "5jced0jtBbvj",
        "outputId": "3d2f1687-c8a3-43a7-b436-94aaf8e9d49a"
      },
      "source": [
        "# avg of all rouge-l f scores \n",
        "\n",
        "df_cnn['rouge-l f scores'] = df_cnn['rouge_values'].apply(lambda x: x['rouge-l']['f'])\n",
        "df_cnn['rouge-l f scores'].mean()"
      ],
      "execution_count": null,
      "outputs": [
        {
          "output_type": "execute_result",
          "data": {
            "text/plain": [
              "0.18853801603887238"
            ]
          },
          "metadata": {},
          "execution_count": 141
        }
      ]
    },
    {
      "cell_type": "code",
      "metadata": {
        "id": "6JdnecZ5Bgxe"
      },
      "source": [
        ""
      ],
      "execution_count": null,
      "outputs": []
    }
  ]
}